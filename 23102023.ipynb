{
  "cells": [
    {
      "cell_type": "markdown",
      "metadata": {
        "id": "view-in-github",
        "colab_type": "text"
      },
      "source": [
        "<a href=\"https://colab.research.google.com/github/MangutTatarin/DataScience/blob/main/23102023.ipynb\" target=\"_parent\"><img src=\"https://colab.research.google.com/assets/colab-badge.svg\" alt=\"Open In Colab\"/></a>"
      ]
    },
    {
      "cell_type": "markdown",
      "metadata": {
        "id": "s9eUa_5BQE7c"
      },
      "source": [
        "*Мутулов Мангут Михайлович,* Практический кейс\n"
      ],
      "id": "s9eUa_5BQE7c"
    },
    {
      "cell_type": "markdown",
      "source": [
        "## *Описание задачи*"
      ],
      "metadata": {
        "id": "eDYRC71S2b6y"
      },
      "id": "eDYRC71S2b6y"
    },
    {
      "cell_type": "markdown",
      "metadata": {
        "id": "XAj4Ze-ccwWd"
      },
      "source": [
        "В качестве исходных данных были взяты результаты экспериментальных  исследований, проводимых в целях улучшения технологического процесса электронно-лучевой сварки изделия, сборка которого состоит из элементов, состоящих из разнородного материала.\n",
        "\n"
      ],
      "id": "XAj4Ze-ccwWd"
    },
    {
      "cell_type": "markdown",
      "metadata": {
        "id": "tWIh3UfZEXTP"
      },
      "source": [
        "Установка электронно-лучевой сварки, на которой проводились исследования, предназначена для сварки электронным лучом в глубоком вакууме деталей сборочных единиц из нержавеющих сталей, титановых, алюминиевых и специальных сплавов.\n"
      ],
      "id": "tWIh3UfZEXTP"
    },
    {
      "cell_type": "markdown",
      "metadata": {
        "id": "KOjxnqO-EUzr"
      },
      "source": [
        "Существующая установка электронно-лучевой сварки обеспечивает повторяемость режимов в рамках возможностей реализованной системы управления. Работы по сварке выполнялись на образцах-имитаторах, соответствующих технологическому изделию.\n"
      ],
      "id": "KOjxnqO-EUzr"
    },
    {
      "cell_type": "markdown",
      "metadata": {
        "id": "EQ-dxuEkcwWe"
      },
      "source": [
        "Для уменьшения вложения энергии при сварке:\n",
        "\n",
        "1.\tСнижалась величина сварочного тока (IW);\n",
        "2.\tУвеличивался ток фокусировки электронного пучка (IF);\n",
        "3.\tУвеличивалась скорость сварки (VW);\n",
        "4.\tМенялось расстояние от поверхности образцов до электронно-оптической системы (FP)."
      ],
      "id": "EQ-dxuEkcwWe"
    },
    {
      "cell_type": "markdown",
      "metadata": {
        "id": "MgHQMlBqcwWe"
      },
      "source": [
        "*По совокупности параметров технологических режимов обеспечивались минимально возможные размеры сварных швов: глубина шва (Depth) и ширина шва (Width).*"
      ],
      "id": "MgHQMlBqcwWe"
    },
    {
      "cell_type": "markdown",
      "metadata": {
        "id": "d_NbOg_ZcwWf"
      },
      "source": [
        "В процессе выполнения работ была произведена электронно-лучевая сварка 18-ти единиц образцов. Результаты металлографического контроля по размерам сварного шва для каждого образца проводились в 4-х поперечных сечениях сварного шва. Ускоряющее напряжение было постоянным в диапазоне 19,8 – 20 кВ. Набор полученных данных собраны в составе режимов сварки, размеров сварочных швов в поперечных сечениях всех образцов."
      ],
      "id": "d_NbOg_ZcwWf"
    },
    {
      "cell_type": "markdown",
      "metadata": {
        "id": "LI-1cClEcwWf"
      },
      "source": [
        "## **Задача**:\n",
        "Решить задачу регрессии (одним или несколькими методами) для предсказания глубины и ширины сварного соединения, выполнив необходимые этапы (разведочный анализ, предобработка)"
      ],
      "id": "LI-1cClEcwWf"
    },
    {
      "cell_type": "markdown",
      "source": [
        "## Импорт необходимых библиотек"
      ],
      "metadata": {
        "id": "exWA-kpL24Up"
      },
      "id": "exWA-kpL24Up"
    },
    {
      "cell_type": "code",
      "source": [
        "!pip install phik --quiet"
      ],
      "metadata": {
        "id": "LGh6LhUod4Gj",
        "colab": {
          "base_uri": "https://localhost:8080/"
        },
        "outputId": "fc7b79b1-4871-46d4-e7d3-109a674e3838"
      },
      "execution_count": 1,
      "outputs": [
        {
          "output_type": "stream",
          "name": "stdout",
          "text": [
            "\u001b[?25l     \u001b[90m━━━━━━━━━━━━━━━━━━━━━━━━━━━━━━━━━━━━━━━━\u001b[0m \u001b[32m0.0/679.5 kB\u001b[0m \u001b[31m?\u001b[0m eta \u001b[36m-:--:--\u001b[0m\r\u001b[2K     \u001b[91m━━\u001b[0m\u001b[90m╺\u001b[0m\u001b[90m━━━━━━━━━━━━━━━━━━━━━━━━━━━━━━━━━━━━━\u001b[0m \u001b[32m41.0/679.5 kB\u001b[0m \u001b[31m1.1 MB/s\u001b[0m eta \u001b[36m0:00:01\u001b[0m\r\u001b[2K     \u001b[91m━━━━━━━━━━━━━━━━━━━━━━━━━━━━━━━━\u001b[0m\u001b[91m╸\u001b[0m\u001b[90m━━━━━━━\u001b[0m \u001b[32m553.0/679.5 kB\u001b[0m \u001b[31m7.7 MB/s\u001b[0m eta \u001b[36m0:00:01\u001b[0m\r\u001b[2K     \u001b[90m━━━━━━━━━━━━━━━━━━━━━━━━━━━━━━━━━━━━━━━━\u001b[0m \u001b[32m679.5/679.5 kB\u001b[0m \u001b[31m7.7 MB/s\u001b[0m eta \u001b[36m0:00:00\u001b[0m\n",
            "\u001b[?25h"
          ]
        }
      ],
      "id": "LGh6LhUod4Gj"
    },
    {
      "cell_type": "code",
      "execution_count": 2,
      "metadata": {
        "id": "pLtAw5alcwWh"
      },
      "outputs": [],
      "source": [
        "import warnings\n",
        "warnings.filterwarnings(\"ignore\")# чтобы не было видно ошибок\n",
        "import pandas as pd # загружаем и обрабатываем данные, делаем предварительный анализ\n",
        "import numpy as np # обрабатываем с массивы и тензоры\n",
        "import matplotlib.pyplot as plt # рисуем графики, делаем визуализацию\n",
        "import seaborn as sns # рисуем еще другие графики, делаем еще лучше визуализацию\n",
        "import tensorflow as tf # библиотека для машинного обучения\n",
        "\n",
        "from matplotlib import rcParams # для изменений параметров отображаемых графиков по умолчанию\n",
        "import phik # Библиотека корреляционного анализатора\n",
        "from phik import resources, report # импотрируем из библиотеки корреляционного анализатора\n",
        "from phik.report import plot_correlation_matrix # для графиков библиотеки корреляционного анализатора\n",
        "import sklearn # библиотека программного обеспечения для машинного обучения\n",
        "from sklearn import metrics # посмотрим функции оценки ошибки прогноза для конкретных целей\n",
        "from sklearn.metrics import mean_squared_error, mean_absolute_error, r2_score # посмотрим среднеквадратичную ошибка, средняя абсолютную ошибку и коэффициент детерминации\n",
        "from sklearn.model_selection import train_test_split, cross_val_score, cross_validate, KFold # делим выборку на тестовую и тренировочную, используем кросс-валидацию\n",
        "\n",
        "from sklearn.model_selection import GridSearchCV, RandomizedSearchCV # инструмент для автоматического подбирания параметров для моделей машинного обучения и рандомизированный поиск по параметрам\n",
        "from sklearn.svm import SVR # метод опорных векторов\n",
        "from tensorflow import keras # библиотека, обеспечивающая взаимодействие с искусственными нейронными сетями"
      ],
      "id": "pLtAw5alcwWh"
    },
    {
      "cell_type": "markdown",
      "metadata": {
        "id": "xKIWxAk-cwWk"
      },
      "source": [
        "## **Разведочный анализ**\n",
        "Разведочный анализ данных (Exploratory Data Analysis) – предварительное исследование Датасета (Dataset) с целью определения его основных характеристик, взаимосвязей между признаками, а также сужения набора методов, используемых для создания Модели (Model) Машинного обучения (Machine Learning)"
      ],
      "id": "xKIWxAk-cwWk"
    },
    {
      "cell_type": "markdown",
      "source": [
        "### *1) Первичный обзор.* Посмотрим на наш датасет, чтобы получить общее представление о его содержимом"
      ],
      "metadata": {
        "id": "31nVAqTJk0Fb"
      },
      "id": "31nVAqTJk0Fb"
    },
    {
      "cell_type": "code",
      "execution_count": 3,
      "id": "cc5bd45c",
      "metadata": {
        "colab": {
          "base_uri": "https://localhost:8080/",
          "height": 161
        },
        "id": "cc5bd45c",
        "outputId": "bada8c8f-6c54-437e-a00f-a824b24f96ca"
      },
      "outputs": [
        {
          "output_type": "stream",
          "name": "stdout",
          "text": [
            "Mounted at /content/drive\n"
          ]
        },
        {
          "output_type": "execute_result",
          "data": {
            "text/plain": [
              "   IW   IF   VW  FP  Depth  Width\n",
              "0  47  139  4.5  80   1.60   2.54\n",
              "1  47  139  4.5  80   1.62   2.50\n",
              "2  47  139  4.5  80   1.68   2.60"
            ],
            "text/html": [
              "\n",
              "  <div id=\"df-03b21906-19df-464a-9cb3-f5f4dda25464\" class=\"colab-df-container\">\n",
              "    <div>\n",
              "<style scoped>\n",
              "    .dataframe tbody tr th:only-of-type {\n",
              "        vertical-align: middle;\n",
              "    }\n",
              "\n",
              "    .dataframe tbody tr th {\n",
              "        vertical-align: top;\n",
              "    }\n",
              "\n",
              "    .dataframe thead th {\n",
              "        text-align: right;\n",
              "    }\n",
              "</style>\n",
              "<table border=\"1\" class=\"dataframe\">\n",
              "  <thead>\n",
              "    <tr style=\"text-align: right;\">\n",
              "      <th></th>\n",
              "      <th>IW</th>\n",
              "      <th>IF</th>\n",
              "      <th>VW</th>\n",
              "      <th>FP</th>\n",
              "      <th>Depth</th>\n",
              "      <th>Width</th>\n",
              "    </tr>\n",
              "  </thead>\n",
              "  <tbody>\n",
              "    <tr>\n",
              "      <th>0</th>\n",
              "      <td>47</td>\n",
              "      <td>139</td>\n",
              "      <td>4.5</td>\n",
              "      <td>80</td>\n",
              "      <td>1.60</td>\n",
              "      <td>2.54</td>\n",
              "    </tr>\n",
              "    <tr>\n",
              "      <th>1</th>\n",
              "      <td>47</td>\n",
              "      <td>139</td>\n",
              "      <td>4.5</td>\n",
              "      <td>80</td>\n",
              "      <td>1.62</td>\n",
              "      <td>2.50</td>\n",
              "    </tr>\n",
              "    <tr>\n",
              "      <th>2</th>\n",
              "      <td>47</td>\n",
              "      <td>139</td>\n",
              "      <td>4.5</td>\n",
              "      <td>80</td>\n",
              "      <td>1.68</td>\n",
              "      <td>2.60</td>\n",
              "    </tr>\n",
              "  </tbody>\n",
              "</table>\n",
              "</div>\n",
              "    <div class=\"colab-df-buttons\">\n",
              "\n",
              "  <div class=\"colab-df-container\">\n",
              "    <button class=\"colab-df-convert\" onclick=\"convertToInteractive('df-03b21906-19df-464a-9cb3-f5f4dda25464')\"\n",
              "            title=\"Convert this dataframe to an interactive table.\"\n",
              "            style=\"display:none;\">\n",
              "\n",
              "  <svg xmlns=\"http://www.w3.org/2000/svg\" height=\"24px\" viewBox=\"0 -960 960 960\">\n",
              "    <path d=\"M120-120v-720h720v720H120Zm60-500h600v-160H180v160Zm220 220h160v-160H400v160Zm0 220h160v-160H400v160ZM180-400h160v-160H180v160Zm440 0h160v-160H620v160ZM180-180h160v-160H180v160Zm440 0h160v-160H620v160Z\"/>\n",
              "  </svg>\n",
              "    </button>\n",
              "\n",
              "  <style>\n",
              "    .colab-df-container {\n",
              "      display:flex;\n",
              "      gap: 12px;\n",
              "    }\n",
              "\n",
              "    .colab-df-convert {\n",
              "      background-color: #E8F0FE;\n",
              "      border: none;\n",
              "      border-radius: 50%;\n",
              "      cursor: pointer;\n",
              "      display: none;\n",
              "      fill: #1967D2;\n",
              "      height: 32px;\n",
              "      padding: 0 0 0 0;\n",
              "      width: 32px;\n",
              "    }\n",
              "\n",
              "    .colab-df-convert:hover {\n",
              "      background-color: #E2EBFA;\n",
              "      box-shadow: 0px 1px 2px rgba(60, 64, 67, 0.3), 0px 1px 3px 1px rgba(60, 64, 67, 0.15);\n",
              "      fill: #174EA6;\n",
              "    }\n",
              "\n",
              "    .colab-df-buttons div {\n",
              "      margin-bottom: 4px;\n",
              "    }\n",
              "\n",
              "    [theme=dark] .colab-df-convert {\n",
              "      background-color: #3B4455;\n",
              "      fill: #D2E3FC;\n",
              "    }\n",
              "\n",
              "    [theme=dark] .colab-df-convert:hover {\n",
              "      background-color: #434B5C;\n",
              "      box-shadow: 0px 1px 3px 1px rgba(0, 0, 0, 0.15);\n",
              "      filter: drop-shadow(0px 1px 2px rgba(0, 0, 0, 0.3));\n",
              "      fill: #FFFFFF;\n",
              "    }\n",
              "  </style>\n",
              "\n",
              "    <script>\n",
              "      const buttonEl =\n",
              "        document.querySelector('#df-03b21906-19df-464a-9cb3-f5f4dda25464 button.colab-df-convert');\n",
              "      buttonEl.style.display =\n",
              "        google.colab.kernel.accessAllowed ? 'block' : 'none';\n",
              "\n",
              "      async function convertToInteractive(key) {\n",
              "        const element = document.querySelector('#df-03b21906-19df-464a-9cb3-f5f4dda25464');\n",
              "        const dataTable =\n",
              "          await google.colab.kernel.invokeFunction('convertToInteractive',\n",
              "                                                    [key], {});\n",
              "        if (!dataTable) return;\n",
              "\n",
              "        const docLinkHtml = 'Like what you see? Visit the ' +\n",
              "          '<a target=\"_blank\" href=https://colab.research.google.com/notebooks/data_table.ipynb>data table notebook</a>'\n",
              "          + ' to learn more about interactive tables.';\n",
              "        element.innerHTML = '';\n",
              "        dataTable['output_type'] = 'display_data';\n",
              "        await google.colab.output.renderOutput(dataTable, element);\n",
              "        const docLink = document.createElement('div');\n",
              "        docLink.innerHTML = docLinkHtml;\n",
              "        element.appendChild(docLink);\n",
              "      }\n",
              "    </script>\n",
              "  </div>\n",
              "\n",
              "\n",
              "<div id=\"df-3978a2d7-1527-4ace-bff7-8ba3d30021b3\">\n",
              "  <button class=\"colab-df-quickchart\" onclick=\"quickchart('df-3978a2d7-1527-4ace-bff7-8ba3d30021b3')\"\n",
              "            title=\"Suggest charts.\"\n",
              "            style=\"display:none;\">\n",
              "\n",
              "<svg xmlns=\"http://www.w3.org/2000/svg\" height=\"24px\"viewBox=\"0 0 24 24\"\n",
              "     width=\"24px\">\n",
              "    <g>\n",
              "        <path d=\"M19 3H5c-1.1 0-2 .9-2 2v14c0 1.1.9 2 2 2h14c1.1 0 2-.9 2-2V5c0-1.1-.9-2-2-2zM9 17H7v-7h2v7zm4 0h-2V7h2v10zm4 0h-2v-4h2v4z\"/>\n",
              "    </g>\n",
              "</svg>\n",
              "  </button>\n",
              "\n",
              "<style>\n",
              "  .colab-df-quickchart {\n",
              "      --bg-color: #E8F0FE;\n",
              "      --fill-color: #1967D2;\n",
              "      --hover-bg-color: #E2EBFA;\n",
              "      --hover-fill-color: #174EA6;\n",
              "      --disabled-fill-color: #AAA;\n",
              "      --disabled-bg-color: #DDD;\n",
              "  }\n",
              "\n",
              "  [theme=dark] .colab-df-quickchart {\n",
              "      --bg-color: #3B4455;\n",
              "      --fill-color: #D2E3FC;\n",
              "      --hover-bg-color: #434B5C;\n",
              "      --hover-fill-color: #FFFFFF;\n",
              "      --disabled-bg-color: #3B4455;\n",
              "      --disabled-fill-color: #666;\n",
              "  }\n",
              "\n",
              "  .colab-df-quickchart {\n",
              "    background-color: var(--bg-color);\n",
              "    border: none;\n",
              "    border-radius: 50%;\n",
              "    cursor: pointer;\n",
              "    display: none;\n",
              "    fill: var(--fill-color);\n",
              "    height: 32px;\n",
              "    padding: 0;\n",
              "    width: 32px;\n",
              "  }\n",
              "\n",
              "  .colab-df-quickchart:hover {\n",
              "    background-color: var(--hover-bg-color);\n",
              "    box-shadow: 0 1px 2px rgba(60, 64, 67, 0.3), 0 1px 3px 1px rgba(60, 64, 67, 0.15);\n",
              "    fill: var(--button-hover-fill-color);\n",
              "  }\n",
              "\n",
              "  .colab-df-quickchart-complete:disabled,\n",
              "  .colab-df-quickchart-complete:disabled:hover {\n",
              "    background-color: var(--disabled-bg-color);\n",
              "    fill: var(--disabled-fill-color);\n",
              "    box-shadow: none;\n",
              "  }\n",
              "\n",
              "  .colab-df-spinner {\n",
              "    border: 2px solid var(--fill-color);\n",
              "    border-color: transparent;\n",
              "    border-bottom-color: var(--fill-color);\n",
              "    animation:\n",
              "      spin 1s steps(1) infinite;\n",
              "  }\n",
              "\n",
              "  @keyframes spin {\n",
              "    0% {\n",
              "      border-color: transparent;\n",
              "      border-bottom-color: var(--fill-color);\n",
              "      border-left-color: var(--fill-color);\n",
              "    }\n",
              "    20% {\n",
              "      border-color: transparent;\n",
              "      border-left-color: var(--fill-color);\n",
              "      border-top-color: var(--fill-color);\n",
              "    }\n",
              "    30% {\n",
              "      border-color: transparent;\n",
              "      border-left-color: var(--fill-color);\n",
              "      border-top-color: var(--fill-color);\n",
              "      border-right-color: var(--fill-color);\n",
              "    }\n",
              "    40% {\n",
              "      border-color: transparent;\n",
              "      border-right-color: var(--fill-color);\n",
              "      border-top-color: var(--fill-color);\n",
              "    }\n",
              "    60% {\n",
              "      border-color: transparent;\n",
              "      border-right-color: var(--fill-color);\n",
              "    }\n",
              "    80% {\n",
              "      border-color: transparent;\n",
              "      border-right-color: var(--fill-color);\n",
              "      border-bottom-color: var(--fill-color);\n",
              "    }\n",
              "    90% {\n",
              "      border-color: transparent;\n",
              "      border-bottom-color: var(--fill-color);\n",
              "    }\n",
              "  }\n",
              "</style>\n",
              "\n",
              "  <script>\n",
              "    async function quickchart(key) {\n",
              "      const quickchartButtonEl =\n",
              "        document.querySelector('#' + key + ' button');\n",
              "      quickchartButtonEl.disabled = true;  // To prevent multiple clicks.\n",
              "      quickchartButtonEl.classList.add('colab-df-spinner');\n",
              "      try {\n",
              "        const charts = await google.colab.kernel.invokeFunction(\n",
              "            'suggestCharts', [key], {});\n",
              "      } catch (error) {\n",
              "        console.error('Error during call to suggestCharts:', error);\n",
              "      }\n",
              "      quickchartButtonEl.classList.remove('colab-df-spinner');\n",
              "      quickchartButtonEl.classList.add('colab-df-quickchart-complete');\n",
              "    }\n",
              "    (() => {\n",
              "      let quickchartButtonEl =\n",
              "        document.querySelector('#df-3978a2d7-1527-4ace-bff7-8ba3d30021b3 button');\n",
              "      quickchartButtonEl.style.display =\n",
              "        google.colab.kernel.accessAllowed ? 'block' : 'none';\n",
              "    })();\n",
              "  </script>\n",
              "</div>\n",
              "    </div>\n",
              "  </div>\n"
            ]
          },
          "metadata": {},
          "execution_count": 3
        }
      ],
      "source": [
        "from google.colab import drive\n",
        "drive.mount('/content/drive') #монтируем файлы из моего google диска, где хранится датасет\n",
        "df = pd.read_csv('/content/drive/MyDrive/bnju/ebw_data.csv') # загружаем датасет\n",
        "df.head(3) # выводим первые три строки"
      ]
    },
    {
      "cell_type": "markdown",
      "source": [
        "### *2) Обработка пропущенных значений.*\n",
        "Работа с отсутствующими значениями – одна из самых сложных, но и самых распространенных проблем очистки. Большинство моделей не предполагают пропусков."
      ],
      "metadata": {
        "id": "CP2ZOs1TkQvi"
      },
      "id": "CP2ZOs1TkQvi"
    },
    {
      "cell_type": "code",
      "execution_count": 4,
      "metadata": {
        "colab": {
          "base_uri": "https://localhost:8080/"
        },
        "id": "T_f0axY0cwWp",
        "outputId": "b6cd1b20-20e8-4fa8-c087-292a731bd1c8"
      },
      "outputs": [
        {
          "output_type": "execute_result",
          "data": {
            "text/plain": [
              "IW       0\n",
              "IF       0\n",
              "VW       0\n",
              "FP       0\n",
              "Depth    0\n",
              "Width    0\n",
              "dtype: int64"
            ]
          },
          "metadata": {},
          "execution_count": 4
        }
      ],
      "source": [
        "# Проверим набор данных на пропуски, хотя и так было ясно. датасет небольшой и я его тупо распечатал (на бумаге) :)\n",
        "df.isna().sum()\n",
        "#Пропусков нет"
      ],
      "id": "T_f0axY0cwWp"
    },
    {
      "cell_type": "code",
      "execution_count": 5,
      "id": "68b57136",
      "metadata": {
        "colab": {
          "base_uri": "https://localhost:8080/"
        },
        "id": "68b57136",
        "outputId": "404d8acd-6213-4253-8a55-d7ee836dad0d"
      },
      "outputs": [
        {
          "output_type": "execute_result",
          "data": {
            "text/plain": [
              "Index(['IW', 'IF', 'VW', 'FP', 'Depth', 'Width'], dtype='object')"
            ]
          },
          "metadata": {},
          "execution_count": 5
        }
      ],
      "source": [
        "df.columns # Выведим названия столбцов, чтобы потом было удобно копировать их названия :)"
      ]
    },
    {
      "cell_type": "markdown",
      "metadata": {
        "id": "5IXgMlThftkS"
      },
      "source": [
        "## Разработка и обучение модели машинного обучения"
      ],
      "id": "5IXgMlThftkS"
    },
    {
      "cell_type": "code",
      "source": [
        "# Решил вернуться к исходному датасету. Определим входные и выходные параметры для модели машинного обучения\n",
        "\n",
        "x = df[['IW', 'IF', 'VW', 'FP']].values # вход\n",
        "y = df[['Depth', 'Width']].values # выход\n",
        "\n",
        "x.shape, y.shape # проверяем размерность параметров."
      ],
      "metadata": {
        "colab": {
          "base_uri": "https://localhost:8080/"
        },
        "id": "5GB24dthp9s8",
        "outputId": "e2377851-2b38-4ad8-ab3a-69ac00224cf1"
      },
      "id": "5GB24dthp9s8",
      "execution_count": 6,
      "outputs": [
        {
          "output_type": "execute_result",
          "data": {
            "text/plain": [
              "((72, 4), (72, 2))"
            ]
          },
          "metadata": {},
          "execution_count": 6
        }
      ]
    },
    {
      "cell_type": "code",
      "source": [
        "# Разбиваем выборки на обучающую и тестовую\n",
        "x_train, x_test, y_train, y_test = train_test_split(x, y, test_size = 0.3, random_state = 14)"
      ],
      "metadata": {
        "id": "5KYHwr8qqIFE"
      },
      "id": "5KYHwr8qqIFE",
      "execution_count": 7,
      "outputs": []
    },
    {
      "cell_type": "code",
      "source": [
        "x_train.shape, x_test.shape, y_train.shape, y_test.shape #Проверим размерность"
      ],
      "metadata": {
        "colab": {
          "base_uri": "https://localhost:8080/"
        },
        "id": "oqTPnSRoqQg8",
        "outputId": "507ba74b-1afc-463a-c7ce-af2afe9afb38"
      },
      "id": "oqTPnSRoqQg8",
      "execution_count": 8,
      "outputs": [
        {
          "output_type": "execute_result",
          "data": {
            "text/plain": [
              "((50, 4), (22, 4), (50, 2), (22, 2))"
            ]
          },
          "metadata": {},
          "execution_count": 8
        }
      ]
    },
    {
      "cell_type": "code",
      "source": [
        "# Датасет для сбора полученных метрик\n",
        "m_s = pd.DataFrame()"
      ],
      "metadata": {
        "id": "lxE3zlnrq_Kb"
      },
      "id": "lxE3zlnrq_Kb",
      "execution_count": 9,
      "outputs": []
    },
    {
      "cell_type": "markdown",
      "metadata": {
        "id": "Wr6NGc5GcwXY"
      },
      "source": [
        "### Метод опорных векторов Support Vector Regression"
      ],
      "id": "Wr6NGc5GcwXY"
    },
    {
      "cell_type": "code",
      "execution_count": 10,
      "metadata": {
        "id": "OGesDqeKcwXY"
      },
      "outputs": [],
      "source": [
        "from sklearn.svm import SVR\n",
        "svr = SVR()\n",
        "svr_params = {'C': [0.1, 1, 10, 100, 500, 1000],\n",
        "              'gamma': [1, 0.1, 0.01, 0.001, 0.0001],\n",
        "              'kernel': ['rbf']}"
      ],
      "id": "OGesDqeKcwXY"
    },
    {
      "cell_type": "code",
      "execution_count": 11,
      "metadata": {
        "colab": {
          "base_uri": "https://localhost:8080/"
        },
        "id": "g3V-j12NcwXY",
        "outputId": "3398781b-2c91-4df9-ec33-8496a4fb7db3"
      },
      "outputs": [
        {
          "output_type": "execute_result",
          "data": {
            "text/plain": [
              "array([1.32, 1.28, 1.08, 1.08, 1.28, 0.96, 1.12, 1.24, 1.28, 1.36, 1.2 ,\n",
              "       0.8 , 1.16, 1.4 , 1.2 , 1.64, 1.62, 1.24, 0.94, 1.2 , 1.36, 1.2 ,\n",
              "       1.  , 1.36, 1.2 , 1.2 , 1.  , 1.58, 0.8 , 1.12, 1.22, 1.08, 0.84,\n",
              "       1.72, 1.12, 1.28, 1.6 , 1.2 , 1.36, 1.02, 1.76, 1.08, 0.84, 0.96,\n",
              "       0.92, 1.24, 1.16, 1.36, 1.2 , 0.98])"
            ]
          },
          "metadata": {},
          "execution_count": 11
        }
      ],
      "source": [
        "# Попробуем сделать предсказания по каждому параметру в отдельности, сначала Depth\n",
        "y_1 = y[:, 0]\n",
        "x_train_1, x_test_1, y_train_1, y_test_1 = train_test_split(x, y_1, test_size = 0.3, random_state = 14)\n",
        "y_train_1"
      ],
      "id": "g3V-j12NcwXY"
    },
    {
      "cell_type": "code",
      "execution_count": 12,
      "metadata": {
        "colab": {
          "base_uri": "https://localhost:8080/",
          "height": 74
        },
        "id": "nOr331LzcwXZ",
        "outputId": "d15eead3-2a66-41b4-fafc-be4a86172985"
      },
      "outputs": [
        {
          "output_type": "execute_result",
          "data": {
            "text/plain": [
              "SVR()"
            ],
            "text/html": [
              "<style>#sk-container-id-1 {color: black;background-color: white;}#sk-container-id-1 pre{padding: 0;}#sk-container-id-1 div.sk-toggleable {background-color: white;}#sk-container-id-1 label.sk-toggleable__label {cursor: pointer;display: block;width: 100%;margin-bottom: 0;padding: 0.3em;box-sizing: border-box;text-align: center;}#sk-container-id-1 label.sk-toggleable__label-arrow:before {content: \"▸\";float: left;margin-right: 0.25em;color: #696969;}#sk-container-id-1 label.sk-toggleable__label-arrow:hover:before {color: black;}#sk-container-id-1 div.sk-estimator:hover label.sk-toggleable__label-arrow:before {color: black;}#sk-container-id-1 div.sk-toggleable__content {max-height: 0;max-width: 0;overflow: hidden;text-align: left;background-color: #f0f8ff;}#sk-container-id-1 div.sk-toggleable__content pre {margin: 0.2em;color: black;border-radius: 0.25em;background-color: #f0f8ff;}#sk-container-id-1 input.sk-toggleable__control:checked~div.sk-toggleable__content {max-height: 200px;max-width: 100%;overflow: auto;}#sk-container-id-1 input.sk-toggleable__control:checked~label.sk-toggleable__label-arrow:before {content: \"▾\";}#sk-container-id-1 div.sk-estimator input.sk-toggleable__control:checked~label.sk-toggleable__label {background-color: #d4ebff;}#sk-container-id-1 div.sk-label input.sk-toggleable__control:checked~label.sk-toggleable__label {background-color: #d4ebff;}#sk-container-id-1 input.sk-hidden--visually {border: 0;clip: rect(1px 1px 1px 1px);clip: rect(1px, 1px, 1px, 1px);height: 1px;margin: -1px;overflow: hidden;padding: 0;position: absolute;width: 1px;}#sk-container-id-1 div.sk-estimator {font-family: monospace;background-color: #f0f8ff;border: 1px dotted black;border-radius: 0.25em;box-sizing: border-box;margin-bottom: 0.5em;}#sk-container-id-1 div.sk-estimator:hover {background-color: #d4ebff;}#sk-container-id-1 div.sk-parallel-item::after {content: \"\";width: 100%;border-bottom: 1px solid gray;flex-grow: 1;}#sk-container-id-1 div.sk-label:hover label.sk-toggleable__label {background-color: #d4ebff;}#sk-container-id-1 div.sk-serial::before {content: \"\";position: absolute;border-left: 1px solid gray;box-sizing: border-box;top: 0;bottom: 0;left: 50%;z-index: 0;}#sk-container-id-1 div.sk-serial {display: flex;flex-direction: column;align-items: center;background-color: white;padding-right: 0.2em;padding-left: 0.2em;position: relative;}#sk-container-id-1 div.sk-item {position: relative;z-index: 1;}#sk-container-id-1 div.sk-parallel {display: flex;align-items: stretch;justify-content: center;background-color: white;position: relative;}#sk-container-id-1 div.sk-item::before, #sk-container-id-1 div.sk-parallel-item::before {content: \"\";position: absolute;border-left: 1px solid gray;box-sizing: border-box;top: 0;bottom: 0;left: 50%;z-index: -1;}#sk-container-id-1 div.sk-parallel-item {display: flex;flex-direction: column;z-index: 1;position: relative;background-color: white;}#sk-container-id-1 div.sk-parallel-item:first-child::after {align-self: flex-end;width: 50%;}#sk-container-id-1 div.sk-parallel-item:last-child::after {align-self: flex-start;width: 50%;}#sk-container-id-1 div.sk-parallel-item:only-child::after {width: 0;}#sk-container-id-1 div.sk-dashed-wrapped {border: 1px dashed gray;margin: 0 0.4em 0.5em 0.4em;box-sizing: border-box;padding-bottom: 0.4em;background-color: white;}#sk-container-id-1 div.sk-label label {font-family: monospace;font-weight: bold;display: inline-block;line-height: 1.2em;}#sk-container-id-1 div.sk-label-container {text-align: center;}#sk-container-id-1 div.sk-container {/* jupyter's `normalize.less` sets `[hidden] { display: none; }` but bootstrap.min.css set `[hidden] { display: none !important; }` so we also need the `!important` here to be able to override the default hidden behavior on the sphinx rendered scikit-learn.org. See: https://github.com/scikit-learn/scikit-learn/issues/21755 */display: inline-block !important;position: relative;}#sk-container-id-1 div.sk-text-repr-fallback {display: none;}</style><div id=\"sk-container-id-1\" class=\"sk-top-container\"><div class=\"sk-text-repr-fallback\"><pre>SVR()</pre><b>In a Jupyter environment, please rerun this cell to show the HTML representation or trust the notebook. <br />On GitHub, the HTML representation is unable to render, please try loading this page with nbviewer.org.</b></div><div class=\"sk-container\" hidden><div class=\"sk-item\"><div class=\"sk-estimator sk-toggleable\"><input class=\"sk-toggleable__control sk-hidden--visually\" id=\"sk-estimator-id-1\" type=\"checkbox\" checked><label for=\"sk-estimator-id-1\" class=\"sk-toggleable__label sk-toggleable__label-arrow\">SVR</label><div class=\"sk-toggleable__content\"><pre>SVR()</pre></div></div></div></div></div>"
            ]
          },
          "metadata": {},
          "execution_count": 12
        }
      ],
      "source": [
        "# обучаем модель с параметрами по умолчанию\n",
        "svr.fit(x_train_1, y_train_1)"
      ],
      "id": "nOr331LzcwXZ"
    },
    {
      "cell_type": "code",
      "execution_count": 13,
      "metadata": {
        "colab": {
          "base_uri": "https://localhost:8080/"
        },
        "id": "csLBiSOmcwXZ",
        "outputId": "bb3eac15-67a0-4bb3-f17b-d2b083cd090c"
      },
      "outputs": [
        {
          "output_type": "stream",
          "name": "stdout",
          "text": [
            "[1.21688694 1.22505994 1.2032221  1.25748639 1.25265571]\n",
            "[1.2  1.08 1.08 1.64 1.32]\n"
          ]
        }
      ],
      "source": [
        "# запускаем предсказания для модели на основе тестового набора данных x_test\n",
        "y_svr = svr.predict(x_test_1)\n",
        "# выведем первые пять значений с помощью диапазона индексов\n",
        "print(y_svr[:5])\n",
        "print(y_test_1[:5])"
      ],
      "id": "csLBiSOmcwXZ"
    },
    {
      "cell_type": "code",
      "execution_count": 14,
      "metadata": {
        "colab": {
          "base_uri": "https://localhost:8080/"
        },
        "id": "WGus1Bf2cwXZ",
        "outputId": "fc3877f5-3da6-455d-bb5e-fe1f50b84f94"
      },
      "outputs": [
        {
          "output_type": "stream",
          "name": "stdout",
          "text": [
            "Среднеквадратичная ошибка, полученная с параметрами по умолчанию: 0.019916184699451892\n",
            "Средняя абсолютная ошибка, полученная с параметрами по умолчанию: 0.09220650054504903\n",
            "Коэффициент детерминации, полученный с параметрами по умолчанию: 0.5767128594404414\n"
          ]
        }
      ],
      "source": [
        "print(\"Среднеквадратичная ошибка, полученная с параметрами по умолчанию:\", mean_squared_error(y_test_1, y_svr))\n",
        "print(\"Средняя абсолютная ошибка, полученная с параметрами по умолчанию:\", mean_absolute_error(y_test_1, y_svr))\n",
        "print(\"Коэффициент детерминации, полученный с параметрами по умолчанию:\", r2_score(y_test_1, y_svr))"
      ],
      "id": "WGus1Bf2cwXZ"
    },
    {
      "cell_type": "code",
      "execution_count": 15,
      "metadata": {
        "id": "mg6csXbVcwXZ"
      },
      "outputs": [],
      "source": [
        "# метрики, полученные моделью с параметрами по умолчанию заносим в наш датасет с параметрами ошибок\n",
        "svr_r = pd.DataFrame({\n",
        "   'Model': 'SVR_D_default',\n",
        "   'MSE': metrics.mean_squared_error(y_test_1, y_svr),\n",
        "   'MAE': metrics.mean_absolute_error(y_test_1, y_svr),\n",
        "    'R^2': metrics.r2_score(y_test_1, y_svr)\n",
        "   }, index = ['SVR_D'])"
      ],
      "id": "mg6csXbVcwXZ"
    },
    {
      "cell_type": "code",
      "execution_count": 16,
      "metadata": {
        "colab": {
          "base_uri": "https://localhost:8080/",
          "height": 81
        },
        "id": "4zhwoMiScwXa",
        "outputId": "70f9830b-f758-4308-826c-a977caff261f"
      },
      "outputs": [
        {
          "output_type": "execute_result",
          "data": {
            "text/plain": [
              "               Model       MSE       MAE       R^2\n",
              "SVR_D  SVR_D_default  0.019916  0.092207  0.576713"
            ],
            "text/html": [
              "\n",
              "  <div id=\"df-f5ea49df-a94e-49dd-8e9c-36f2729d9d0d\" class=\"colab-df-container\">\n",
              "    <div>\n",
              "<style scoped>\n",
              "    .dataframe tbody tr th:only-of-type {\n",
              "        vertical-align: middle;\n",
              "    }\n",
              "\n",
              "    .dataframe tbody tr th {\n",
              "        vertical-align: top;\n",
              "    }\n",
              "\n",
              "    .dataframe thead th {\n",
              "        text-align: right;\n",
              "    }\n",
              "</style>\n",
              "<table border=\"1\" class=\"dataframe\">\n",
              "  <thead>\n",
              "    <tr style=\"text-align: right;\">\n",
              "      <th></th>\n",
              "      <th>Model</th>\n",
              "      <th>MSE</th>\n",
              "      <th>MAE</th>\n",
              "      <th>R^2</th>\n",
              "    </tr>\n",
              "  </thead>\n",
              "  <tbody>\n",
              "    <tr>\n",
              "      <th>SVR_D</th>\n",
              "      <td>SVR_D_default</td>\n",
              "      <td>0.019916</td>\n",
              "      <td>0.092207</td>\n",
              "      <td>0.576713</td>\n",
              "    </tr>\n",
              "  </tbody>\n",
              "</table>\n",
              "</div>\n",
              "    <div class=\"colab-df-buttons\">\n",
              "\n",
              "  <div class=\"colab-df-container\">\n",
              "    <button class=\"colab-df-convert\" onclick=\"convertToInteractive('df-f5ea49df-a94e-49dd-8e9c-36f2729d9d0d')\"\n",
              "            title=\"Convert this dataframe to an interactive table.\"\n",
              "            style=\"display:none;\">\n",
              "\n",
              "  <svg xmlns=\"http://www.w3.org/2000/svg\" height=\"24px\" viewBox=\"0 -960 960 960\">\n",
              "    <path d=\"M120-120v-720h720v720H120Zm60-500h600v-160H180v160Zm220 220h160v-160H400v160Zm0 220h160v-160H400v160ZM180-400h160v-160H180v160Zm440 0h160v-160H620v160ZM180-180h160v-160H180v160Zm440 0h160v-160H620v160Z\"/>\n",
              "  </svg>\n",
              "    </button>\n",
              "\n",
              "  <style>\n",
              "    .colab-df-container {\n",
              "      display:flex;\n",
              "      gap: 12px;\n",
              "    }\n",
              "\n",
              "    .colab-df-convert {\n",
              "      background-color: #E8F0FE;\n",
              "      border: none;\n",
              "      border-radius: 50%;\n",
              "      cursor: pointer;\n",
              "      display: none;\n",
              "      fill: #1967D2;\n",
              "      height: 32px;\n",
              "      padding: 0 0 0 0;\n",
              "      width: 32px;\n",
              "    }\n",
              "\n",
              "    .colab-df-convert:hover {\n",
              "      background-color: #E2EBFA;\n",
              "      box-shadow: 0px 1px 2px rgba(60, 64, 67, 0.3), 0px 1px 3px 1px rgba(60, 64, 67, 0.15);\n",
              "      fill: #174EA6;\n",
              "    }\n",
              "\n",
              "    .colab-df-buttons div {\n",
              "      margin-bottom: 4px;\n",
              "    }\n",
              "\n",
              "    [theme=dark] .colab-df-convert {\n",
              "      background-color: #3B4455;\n",
              "      fill: #D2E3FC;\n",
              "    }\n",
              "\n",
              "    [theme=dark] .colab-df-convert:hover {\n",
              "      background-color: #434B5C;\n",
              "      box-shadow: 0px 1px 3px 1px rgba(0, 0, 0, 0.15);\n",
              "      filter: drop-shadow(0px 1px 2px rgba(0, 0, 0, 0.3));\n",
              "      fill: #FFFFFF;\n",
              "    }\n",
              "  </style>\n",
              "\n",
              "    <script>\n",
              "      const buttonEl =\n",
              "        document.querySelector('#df-f5ea49df-a94e-49dd-8e9c-36f2729d9d0d button.colab-df-convert');\n",
              "      buttonEl.style.display =\n",
              "        google.colab.kernel.accessAllowed ? 'block' : 'none';\n",
              "\n",
              "      async function convertToInteractive(key) {\n",
              "        const element = document.querySelector('#df-f5ea49df-a94e-49dd-8e9c-36f2729d9d0d');\n",
              "        const dataTable =\n",
              "          await google.colab.kernel.invokeFunction('convertToInteractive',\n",
              "                                                    [key], {});\n",
              "        if (!dataTable) return;\n",
              "\n",
              "        const docLinkHtml = 'Like what you see? Visit the ' +\n",
              "          '<a target=\"_blank\" href=https://colab.research.google.com/notebooks/data_table.ipynb>data table notebook</a>'\n",
              "          + ' to learn more about interactive tables.';\n",
              "        element.innerHTML = '';\n",
              "        dataTable['output_type'] = 'display_data';\n",
              "        await google.colab.output.renderOutput(dataTable, element);\n",
              "        const docLink = document.createElement('div');\n",
              "        docLink.innerHTML = docLinkHtml;\n",
              "        element.appendChild(docLink);\n",
              "      }\n",
              "    </script>\n",
              "  </div>\n",
              "\n",
              "    </div>\n",
              "  </div>\n"
            ]
          },
          "metadata": {},
          "execution_count": 16
        }
      ],
      "source": [
        "m_s = pd.concat([m_s, svr_r])\n",
        "m_s_s = m_s.sort_values(by = ['MAE', 'R^2'])\n",
        "m_s_s"
      ],
      "id": "4zhwoMiScwXa"
    },
    {
      "cell_type": "code",
      "execution_count": null,
      "metadata": {
        "id": "_q4a4GSMcwXa"
      },
      "outputs": [],
      "source": [
        "# поиск лучших гиперпараметров модели с помощью поиска по сетке с перекрестной проверкой, количество блоков равно 10\n",
        "GSCV_svr_best = GridSearchCV(svr, svr_params, n_jobs =- 1, cv = 10)\n",
        "GSCV_svr_best.fit(x_train_1, y_train_1)\n",
        "GSCV_svr_best.best_params_"
      ],
      "id": "_q4a4GSMcwXa"
    },
    {
      "cell_type": "code",
      "execution_count": 18,
      "metadata": {
        "id": "vCnAA2TncwXa"
      },
      "outputs": [],
      "source": [
        "svr_best = GSCV_svr_best.best_estimator_"
      ],
      "id": "vCnAA2TncwXa"
    },
    {
      "cell_type": "code",
      "execution_count": 19,
      "metadata": {
        "id": "z_q_3xV2cwXa"
      },
      "outputs": [],
      "source": [
        "svr_best_r = pd.DataFrame({\n",
        "   'Model': 'SVR_D_best',\n",
        "   'MSE': metrics.mean_squared_error(y_test_1, svr_best.predict(x_test_1)),\n",
        "   'MAE': metrics.mean_absolute_error(y_test_1, svr_best.predict(x_test_1)),\n",
        "   'R^2': metrics.r2_score(y_test_1, svr_best.predict(x_test_1))\n",
        "   }, index=['SVR_D'])"
      ],
      "id": "z_q_3xV2cwXa"
    },
    {
      "cell_type": "code",
      "execution_count": 20,
      "metadata": {
        "colab": {
          "base_uri": "https://localhost:8080/"
        },
        "id": "Vgdxx18ecwXa",
        "outputId": "256ae5ec-0fb2-43ef-fb5f-e91fed293c5e"
      },
      "outputs": [
        {
          "output_type": "stream",
          "name": "stdout",
          "text": [
            "Среднеквадратичная ошибка, полученная с лучшими гиперпараметрами: 0.006999633888943892\n",
            "Средняя абсолютная ошибка, полученная с лучшими гиперпараметрами: 0.07135155545519599\n",
            "Коэффициент детерминации, полученный с лучшими гиперпараметрами: 0.8512338051425892\n"
          ]
        }
      ],
      "source": [
        "print(\"Среднеквадратичная ошибка, полученная с лучшими гиперпараметрами:\", mean_squared_error(y_test_1, svr_best.predict(x_test_1)))\n",
        "print(\"Средняя абсолютная ошибка, полученная с лучшими гиперпараметрами:\", mean_absolute_error(y_test_1, svr_best.predict(x_test_1)))\n",
        "print(\"Коэффициент детерминации, полученный с лучшими гиперпараметрами:\", r2_score(y_test_1, svr_best.predict(x_test_1)))"
      ],
      "id": "Vgdxx18ecwXa"
    },
    {
      "cell_type": "code",
      "execution_count": 21,
      "metadata": {
        "colab": {
          "base_uri": "https://localhost:8080/",
          "height": 112
        },
        "id": "x0fE4VyxcwXb",
        "outputId": "9c2bf390-0271-445e-d703-19ebfd8ab229"
      },
      "outputs": [
        {
          "output_type": "execute_result",
          "data": {
            "text/plain": [
              "               Model       MSE       MAE       R^2\n",
              "SVR_D     SVR_D_best  0.007000  0.071352  0.851234\n",
              "SVR_D  SVR_D_default  0.019916  0.092207  0.576713"
            ],
            "text/html": [
              "\n",
              "  <div id=\"df-acb5065a-6a44-4069-88fe-715465760a76\" class=\"colab-df-container\">\n",
              "    <div>\n",
              "<style scoped>\n",
              "    .dataframe tbody tr th:only-of-type {\n",
              "        vertical-align: middle;\n",
              "    }\n",
              "\n",
              "    .dataframe tbody tr th {\n",
              "        vertical-align: top;\n",
              "    }\n",
              "\n",
              "    .dataframe thead th {\n",
              "        text-align: right;\n",
              "    }\n",
              "</style>\n",
              "<table border=\"1\" class=\"dataframe\">\n",
              "  <thead>\n",
              "    <tr style=\"text-align: right;\">\n",
              "      <th></th>\n",
              "      <th>Model</th>\n",
              "      <th>MSE</th>\n",
              "      <th>MAE</th>\n",
              "      <th>R^2</th>\n",
              "    </tr>\n",
              "  </thead>\n",
              "  <tbody>\n",
              "    <tr>\n",
              "      <th>SVR_D</th>\n",
              "      <td>SVR_D_best</td>\n",
              "      <td>0.007000</td>\n",
              "      <td>0.071352</td>\n",
              "      <td>0.851234</td>\n",
              "    </tr>\n",
              "    <tr>\n",
              "      <th>SVR_D</th>\n",
              "      <td>SVR_D_default</td>\n",
              "      <td>0.019916</td>\n",
              "      <td>0.092207</td>\n",
              "      <td>0.576713</td>\n",
              "    </tr>\n",
              "  </tbody>\n",
              "</table>\n",
              "</div>\n",
              "    <div class=\"colab-df-buttons\">\n",
              "\n",
              "  <div class=\"colab-df-container\">\n",
              "    <button class=\"colab-df-convert\" onclick=\"convertToInteractive('df-acb5065a-6a44-4069-88fe-715465760a76')\"\n",
              "            title=\"Convert this dataframe to an interactive table.\"\n",
              "            style=\"display:none;\">\n",
              "\n",
              "  <svg xmlns=\"http://www.w3.org/2000/svg\" height=\"24px\" viewBox=\"0 -960 960 960\">\n",
              "    <path d=\"M120-120v-720h720v720H120Zm60-500h600v-160H180v160Zm220 220h160v-160H400v160Zm0 220h160v-160H400v160ZM180-400h160v-160H180v160Zm440 0h160v-160H620v160ZM180-180h160v-160H180v160Zm440 0h160v-160H620v160Z\"/>\n",
              "  </svg>\n",
              "    </button>\n",
              "\n",
              "  <style>\n",
              "    .colab-df-container {\n",
              "      display:flex;\n",
              "      gap: 12px;\n",
              "    }\n",
              "\n",
              "    .colab-df-convert {\n",
              "      background-color: #E8F0FE;\n",
              "      border: none;\n",
              "      border-radius: 50%;\n",
              "      cursor: pointer;\n",
              "      display: none;\n",
              "      fill: #1967D2;\n",
              "      height: 32px;\n",
              "      padding: 0 0 0 0;\n",
              "      width: 32px;\n",
              "    }\n",
              "\n",
              "    .colab-df-convert:hover {\n",
              "      background-color: #E2EBFA;\n",
              "      box-shadow: 0px 1px 2px rgba(60, 64, 67, 0.3), 0px 1px 3px 1px rgba(60, 64, 67, 0.15);\n",
              "      fill: #174EA6;\n",
              "    }\n",
              "\n",
              "    .colab-df-buttons div {\n",
              "      margin-bottom: 4px;\n",
              "    }\n",
              "\n",
              "    [theme=dark] .colab-df-convert {\n",
              "      background-color: #3B4455;\n",
              "      fill: #D2E3FC;\n",
              "    }\n",
              "\n",
              "    [theme=dark] .colab-df-convert:hover {\n",
              "      background-color: #434B5C;\n",
              "      box-shadow: 0px 1px 3px 1px rgba(0, 0, 0, 0.15);\n",
              "      filter: drop-shadow(0px 1px 2px rgba(0, 0, 0, 0.3));\n",
              "      fill: #FFFFFF;\n",
              "    }\n",
              "  </style>\n",
              "\n",
              "    <script>\n",
              "      const buttonEl =\n",
              "        document.querySelector('#df-acb5065a-6a44-4069-88fe-715465760a76 button.colab-df-convert');\n",
              "      buttonEl.style.display =\n",
              "        google.colab.kernel.accessAllowed ? 'block' : 'none';\n",
              "\n",
              "      async function convertToInteractive(key) {\n",
              "        const element = document.querySelector('#df-acb5065a-6a44-4069-88fe-715465760a76');\n",
              "        const dataTable =\n",
              "          await google.colab.kernel.invokeFunction('convertToInteractive',\n",
              "                                                    [key], {});\n",
              "        if (!dataTable) return;\n",
              "\n",
              "        const docLinkHtml = 'Like what you see? Visit the ' +\n",
              "          '<a target=\"_blank\" href=https://colab.research.google.com/notebooks/data_table.ipynb>data table notebook</a>'\n",
              "          + ' to learn more about interactive tables.';\n",
              "        element.innerHTML = '';\n",
              "        dataTable['output_type'] = 'display_data';\n",
              "        await google.colab.output.renderOutput(dataTable, element);\n",
              "        const docLink = document.createElement('div');\n",
              "        docLink.innerHTML = docLinkHtml;\n",
              "        element.appendChild(docLink);\n",
              "      }\n",
              "    </script>\n",
              "  </div>\n",
              "\n",
              "\n",
              "<div id=\"df-8b1749f3-503e-4ab7-8f31-ba0cc0482265\">\n",
              "  <button class=\"colab-df-quickchart\" onclick=\"quickchart('df-8b1749f3-503e-4ab7-8f31-ba0cc0482265')\"\n",
              "            title=\"Suggest charts.\"\n",
              "            style=\"display:none;\">\n",
              "\n",
              "<svg xmlns=\"http://www.w3.org/2000/svg\" height=\"24px\"viewBox=\"0 0 24 24\"\n",
              "     width=\"24px\">\n",
              "    <g>\n",
              "        <path d=\"M19 3H5c-1.1 0-2 .9-2 2v14c0 1.1.9 2 2 2h14c1.1 0 2-.9 2-2V5c0-1.1-.9-2-2-2zM9 17H7v-7h2v7zm4 0h-2V7h2v10zm4 0h-2v-4h2v4z\"/>\n",
              "    </g>\n",
              "</svg>\n",
              "  </button>\n",
              "\n",
              "<style>\n",
              "  .colab-df-quickchart {\n",
              "      --bg-color: #E8F0FE;\n",
              "      --fill-color: #1967D2;\n",
              "      --hover-bg-color: #E2EBFA;\n",
              "      --hover-fill-color: #174EA6;\n",
              "      --disabled-fill-color: #AAA;\n",
              "      --disabled-bg-color: #DDD;\n",
              "  }\n",
              "\n",
              "  [theme=dark] .colab-df-quickchart {\n",
              "      --bg-color: #3B4455;\n",
              "      --fill-color: #D2E3FC;\n",
              "      --hover-bg-color: #434B5C;\n",
              "      --hover-fill-color: #FFFFFF;\n",
              "      --disabled-bg-color: #3B4455;\n",
              "      --disabled-fill-color: #666;\n",
              "  }\n",
              "\n",
              "  .colab-df-quickchart {\n",
              "    background-color: var(--bg-color);\n",
              "    border: none;\n",
              "    border-radius: 50%;\n",
              "    cursor: pointer;\n",
              "    display: none;\n",
              "    fill: var(--fill-color);\n",
              "    height: 32px;\n",
              "    padding: 0;\n",
              "    width: 32px;\n",
              "  }\n",
              "\n",
              "  .colab-df-quickchart:hover {\n",
              "    background-color: var(--hover-bg-color);\n",
              "    box-shadow: 0 1px 2px rgba(60, 64, 67, 0.3), 0 1px 3px 1px rgba(60, 64, 67, 0.15);\n",
              "    fill: var(--button-hover-fill-color);\n",
              "  }\n",
              "\n",
              "  .colab-df-quickchart-complete:disabled,\n",
              "  .colab-df-quickchart-complete:disabled:hover {\n",
              "    background-color: var(--disabled-bg-color);\n",
              "    fill: var(--disabled-fill-color);\n",
              "    box-shadow: none;\n",
              "  }\n",
              "\n",
              "  .colab-df-spinner {\n",
              "    border: 2px solid var(--fill-color);\n",
              "    border-color: transparent;\n",
              "    border-bottom-color: var(--fill-color);\n",
              "    animation:\n",
              "      spin 1s steps(1) infinite;\n",
              "  }\n",
              "\n",
              "  @keyframes spin {\n",
              "    0% {\n",
              "      border-color: transparent;\n",
              "      border-bottom-color: var(--fill-color);\n",
              "      border-left-color: var(--fill-color);\n",
              "    }\n",
              "    20% {\n",
              "      border-color: transparent;\n",
              "      border-left-color: var(--fill-color);\n",
              "      border-top-color: var(--fill-color);\n",
              "    }\n",
              "    30% {\n",
              "      border-color: transparent;\n",
              "      border-left-color: var(--fill-color);\n",
              "      border-top-color: var(--fill-color);\n",
              "      border-right-color: var(--fill-color);\n",
              "    }\n",
              "    40% {\n",
              "      border-color: transparent;\n",
              "      border-right-color: var(--fill-color);\n",
              "      border-top-color: var(--fill-color);\n",
              "    }\n",
              "    60% {\n",
              "      border-color: transparent;\n",
              "      border-right-color: var(--fill-color);\n",
              "    }\n",
              "    80% {\n",
              "      border-color: transparent;\n",
              "      border-right-color: var(--fill-color);\n",
              "      border-bottom-color: var(--fill-color);\n",
              "    }\n",
              "    90% {\n",
              "      border-color: transparent;\n",
              "      border-bottom-color: var(--fill-color);\n",
              "    }\n",
              "  }\n",
              "</style>\n",
              "\n",
              "  <script>\n",
              "    async function quickchart(key) {\n",
              "      const quickchartButtonEl =\n",
              "        document.querySelector('#' + key + ' button');\n",
              "      quickchartButtonEl.disabled = true;  // To prevent multiple clicks.\n",
              "      quickchartButtonEl.classList.add('colab-df-spinner');\n",
              "      try {\n",
              "        const charts = await google.colab.kernel.invokeFunction(\n",
              "            'suggestCharts', [key], {});\n",
              "      } catch (error) {\n",
              "        console.error('Error during call to suggestCharts:', error);\n",
              "      }\n",
              "      quickchartButtonEl.classList.remove('colab-df-spinner');\n",
              "      quickchartButtonEl.classList.add('colab-df-quickchart-complete');\n",
              "    }\n",
              "    (() => {\n",
              "      let quickchartButtonEl =\n",
              "        document.querySelector('#df-8b1749f3-503e-4ab7-8f31-ba0cc0482265 button');\n",
              "      quickchartButtonEl.style.display =\n",
              "        google.colab.kernel.accessAllowed ? 'block' : 'none';\n",
              "    })();\n",
              "  </script>\n",
              "</div>\n",
              "    </div>\n",
              "  </div>\n"
            ]
          },
          "metadata": {},
          "execution_count": 21
        }
      ],
      "source": [
        "m_s = pd.concat([m_s, svr_best_r])\n",
        "m_s_s = m_s.sort_values(by = ['MAE', 'R^2'])\n",
        "m_s_s"
      ],
      "id": "x0fE4VyxcwXb"
    },
    {
      "cell_type": "code",
      "execution_count": 22,
      "metadata": {
        "colab": {
          "base_uri": "https://localhost:8080/",
          "height": 813
        },
        "id": "X1hOjqCtcwXb",
        "outputId": "ef173599-fd2a-4ce3-a67c-99f3369debb0"
      },
      "outputs": [
        {
          "output_type": "execute_result",
          "data": {
            "text/plain": [
              "<matplotlib.legend.Legend at 0x7d4f59b60880>"
            ]
          },
          "metadata": {},
          "execution_count": 22
        },
        {
          "output_type": "display_data",
          "data": {
            "text/plain": [
              "<Figure size 2000x1000 with 1 Axes>"
            ],
            "image/png": "[encoded data removed]"
          },
          "metadata": {}
        }
      ],
      "source": [
        "plt.figure(figsize = (20, 10))\n",
        "plt.suptitle(\"Метод опорных векторов Support Vector Regression\", size = 21)\n",
        "plt.subplots_adjust(top = 0.90)\n",
        "plt.plot(range(len(y_test_1)), y_test_1, label = \"Тестовые значения 'Depth'\", color = '#059bff', linewidth = 4)\n",
        "plt.plot(range(len(svr_best.predict(x_test_1))), svr_best.predict(x_test_1), color = '#78150c', label = \"Прогнозные значения SVR 'Depth'\", linewidth = 4)\n",
        "plt.legend(loc = 'best', fontsize = 10)"
      ],
      "id": "X1hOjqCtcwXb"
    },
    {
      "cell_type": "code",
      "execution_count": 23,
      "metadata": {
        "id": "yjlotMENcwXb"
      },
      "outputs": [],
      "source": [
        "#Повторим тоже самое для параметра \"Width\"\n",
        "svr_1 = SVR()\n",
        "svr_1_params = {'C': [0.1, 1, 10, 100, 500, 1000],\n",
        "              'gamma': [1, 0.1, 0.01, 0.001, 0.0001],\n",
        "              'kernel': ['rbf']}"
      ],
      "id": "yjlotMENcwXb"
    },
    {
      "cell_type": "code",
      "execution_count": 24,
      "metadata": {
        "colab": {
          "base_uri": "https://localhost:8080/"
        },
        "id": "FeLRnpX_cwXb",
        "outputId": "6ee8af7b-5f3f-4690-96fc-d1736d58048e"
      },
      "outputs": [
        {
          "output_type": "execute_result",
          "data": {
            "text/plain": [
              "array([1.84, 1.76, 1.68, 1.8 , 1.8 , 2.  , 1.8 , 1.78, 1.8 , 1.76, 1.96,\n",
              "       2.24, 1.8 , 2.48, 1.76, 2.56, 2.5 , 1.72, 1.94, 1.96, 2.48, 1.88,\n",
              "       1.84, 1.76, 1.72, 1.72, 1.86, 2.52, 2.28, 1.76, 1.82, 1.82, 2.24,\n",
              "       2.48, 1.71, 1.76, 2.54, 1.76, 1.76, 1.84, 2.48, 1.82, 2.16, 1.94,\n",
              "       1.86, 1.8 , 1.96, 2.52, 1.8 , 1.84])"
            ]
          },
          "metadata": {},
          "execution_count": 24
        }
      ],
      "source": [
        "#Попробуем сделать предсказания по каждому параметру в отдельности, теперь Width\n",
        "y_2 = y[:, 1]\n",
        "x_train_2, x_test_2, y_train_2, y_test_2 = train_test_split(x, y_2, test_size = 0.3, random_state = 14)\n",
        "y_train_2"
      ],
      "id": "FeLRnpX_cwXb"
    },
    {
      "cell_type": "code",
      "execution_count": 25,
      "metadata": {
        "colab": {
          "base_uri": "https://localhost:8080/",
          "height": 74
        },
        "id": "VYQuZyFXcwXb",
        "outputId": "0d40ce61-6b97-49ea-86a6-e1dd04b8ee8d"
      },
      "outputs": [
        {
          "output_type": "execute_result",
          "data": {
            "text/plain": [
              "SVR()"
            ],
            "text/html": [
              "<style>#sk-container-id-2 {color: black;background-color: white;}#sk-container-id-2 pre{padding: 0;}#sk-container-id-2 div.sk-toggleable {background-color: white;}#sk-container-id-2 label.sk-toggleable__label {cursor: pointer;display: block;width: 100%;margin-bottom: 0;padding: 0.3em;box-sizing: border-box;text-align: center;}#sk-container-id-2 label.sk-toggleable__label-arrow:before {content: \"▸\";float: left;margin-right: 0.25em;color: #696969;}#sk-container-id-2 label.sk-toggleable__label-arrow:hover:before {color: black;}#sk-container-id-2 div.sk-estimator:hover label.sk-toggleable__label-arrow:before {color: black;}#sk-container-id-2 div.sk-toggleable__content {max-height: 0;max-width: 0;overflow: hidden;text-align: left;background-color: #f0f8ff;}#sk-container-id-2 div.sk-toggleable__content pre {margin: 0.2em;color: black;border-radius: 0.25em;background-color: #f0f8ff;}#sk-container-id-2 input.sk-toggleable__control:checked~div.sk-toggleable__content {max-height: 200px;max-width: 100%;overflow: auto;}#sk-container-id-2 input.sk-toggleable__control:checked~label.sk-toggleable__label-arrow:before {content: \"▾\";}#sk-container-id-2 div.sk-estimator input.sk-toggleable__control:checked~label.sk-toggleable__label {background-color: #d4ebff;}#sk-container-id-2 div.sk-label input.sk-toggleable__control:checked~label.sk-toggleable__label {background-color: #d4ebff;}#sk-container-id-2 input.sk-hidden--visually {border: 0;clip: rect(1px 1px 1px 1px);clip: rect(1px, 1px, 1px, 1px);height: 1px;margin: -1px;overflow: hidden;padding: 0;position: absolute;width: 1px;}#sk-container-id-2 div.sk-estimator {font-family: monospace;background-color: #f0f8ff;border: 1px dotted black;border-radius: 0.25em;box-sizing: border-box;margin-bottom: 0.5em;}#sk-container-id-2 div.sk-estimator:hover {background-color: #d4ebff;}#sk-container-id-2 div.sk-parallel-item::after {content: \"\";width: 100%;border-bottom: 1px solid gray;flex-grow: 1;}#sk-container-id-2 div.sk-label:hover label.sk-toggleable__label {background-color: #d4ebff;}#sk-container-id-2 div.sk-serial::before {content: \"\";position: absolute;border-left: 1px solid gray;box-sizing: border-box;top: 0;bottom: 0;left: 50%;z-index: 0;}#sk-container-id-2 div.sk-serial {display: flex;flex-direction: column;align-items: center;background-color: white;padding-right: 0.2em;padding-left: 0.2em;position: relative;}#sk-container-id-2 div.sk-item {position: relative;z-index: 1;}#sk-container-id-2 div.sk-parallel {display: flex;align-items: stretch;justify-content: center;background-color: white;position: relative;}#sk-container-id-2 div.sk-item::before, #sk-container-id-2 div.sk-parallel-item::before {content: \"\";position: absolute;border-left: 1px solid gray;box-sizing: border-box;top: 0;bottom: 0;left: 50%;z-index: -1;}#sk-container-id-2 div.sk-parallel-item {display: flex;flex-direction: column;z-index: 1;position: relative;background-color: white;}#sk-container-id-2 div.sk-parallel-item:first-child::after {align-self: flex-end;width: 50%;}#sk-container-id-2 div.sk-parallel-item:last-child::after {align-self: flex-start;width: 50%;}#sk-container-id-2 div.sk-parallel-item:only-child::after {width: 0;}#sk-container-id-2 div.sk-dashed-wrapped {border: 1px dashed gray;margin: 0 0.4em 0.5em 0.4em;box-sizing: border-box;padding-bottom: 0.4em;background-color: white;}#sk-container-id-2 div.sk-label label {font-family: monospace;font-weight: bold;display: inline-block;line-height: 1.2em;}#sk-container-id-2 div.sk-label-container {text-align: center;}#sk-container-id-2 div.sk-container {/* jupyter's `normalize.less` sets `[hidden] { display: none; }` but bootstrap.min.css set `[hidden] { display: none !important; }` so we also need the `!important` here to be able to override the default hidden behavior on the sphinx rendered scikit-learn.org. See: https://github.com/scikit-learn/scikit-learn/issues/21755 */display: inline-block !important;position: relative;}#sk-container-id-2 div.sk-text-repr-fallback {display: none;}</style><div id=\"sk-container-id-2\" class=\"sk-top-container\"><div class=\"sk-text-repr-fallback\"><pre>SVR()</pre><b>In a Jupyter environment, please rerun this cell to show the HTML representation or trust the notebook. <br />On GitHub, the HTML representation is unable to render, please try loading this page with nbviewer.org.</b></div><div class=\"sk-container\" hidden><div class=\"sk-item\"><div class=\"sk-estimator sk-toggleable\"><input class=\"sk-toggleable__control sk-hidden--visually\" id=\"sk-estimator-id-2\" type=\"checkbox\" checked><label for=\"sk-estimator-id-2\" class=\"sk-toggleable__label sk-toggleable__label-arrow\">SVR</label><div class=\"sk-toggleable__content\"><pre>SVR()</pre></div></div></div></div></div>"
            ]
          },
          "metadata": {},
          "execution_count": 25
        }
      ],
      "source": [
        "# обучаем модель с параметрами по умолчанию\n",
        "svr_1.fit(x_train_2, y_train_2)"
      ],
      "id": "VYQuZyFXcwXb"
    },
    {
      "cell_type": "code",
      "execution_count": 26,
      "metadata": {
        "colab": {
          "base_uri": "https://localhost:8080/"
        },
        "id": "I7aZDu2PcwXc",
        "outputId": "587560c9-6df5-4022-f66d-6915c618e639"
      },
      "outputs": [
        {
          "output_type": "stream",
          "name": "stdout",
          "text": [
            "[1.9152613  1.76963801 1.89408978 1.97808008 1.82059819]\n",
            "[1.78 1.82 1.72 2.52 1.76]\n"
          ]
        }
      ],
      "source": [
        "# запускаем предсказания для модели на основе тестового набора данных x_test\n",
        "y_svr_1 = svr_1.predict(x_test_2)\n",
        "# выведем первые пять значений с помощью диапазона индексов\n",
        "print(y_svr_1[:5])\n",
        "print(y_test_2[:5])"
      ],
      "id": "I7aZDu2PcwXc"
    },
    {
      "cell_type": "code",
      "execution_count": 27,
      "metadata": {
        "colab": {
          "base_uri": "https://localhost:8080/"
        },
        "id": "QbmAD-cacwXc",
        "outputId": "fe8bf537-1fde-4e8a-e527-41097d883781"
      },
      "outputs": [
        {
          "output_type": "stream",
          "name": "stdout",
          "text": [
            "Среднеквадратичная ошибка, полученная с параметрами по умолчанию: 0.049900052360522335\n",
            "Средняя абсолютная ошибка, полученная с параметрами по умолчанию: 0.14757187600117946\n",
            "Коэффициент детерминации, полученный с параметрами по умолчанию: 0.29142534670900777\n"
          ]
        }
      ],
      "source": [
        "print(\"Среднеквадратичная ошибка, полученная с параметрами по умолчанию:\", mean_squared_error(y_test_2, y_svr_1))\n",
        "print(\"Средняя абсолютная ошибка, полученная с параметрами по умолчанию:\", mean_absolute_error(y_test_2, y_svr_1))\n",
        "print(\"Коэффициент детерминации, полученный с параметрами по умолчанию:\", r2_score(y_test_2,y_svr_1))"
      ],
      "id": "QbmAD-cacwXc"
    },
    {
      "cell_type": "code",
      "execution_count": 28,
      "metadata": {
        "id": "1l81IhBecwXc"
      },
      "outputs": [],
      "source": [
        "# метрики, полученные моделью с параметрами по умолчанию заносим в наш датасет с параметрами ошибок\n",
        "svr_r_1 = pd.DataFrame({\n",
        "   'Model': 'SVR_W_default\t',\n",
        "   'MSE': metrics.mean_squared_error(y_test_2, y_svr_1),\n",
        "   'MAE': metrics.mean_absolute_error(y_test_2, y_svr_1),\n",
        "    'R^2': metrics.r2_score(y_test_2, y_svr_1)\n",
        "   }, index = ['SVR_W'])"
      ],
      "id": "1l81IhBecwXc"
    },
    {
      "cell_type": "code",
      "execution_count": 29,
      "metadata": {
        "colab": {
          "base_uri": "https://localhost:8080/",
          "height": 143
        },
        "id": "7T7V1XrWcwXc",
        "outputId": "7e0999fa-ea3e-4c46-e366-38e9e96a3629"
      },
      "outputs": [
        {
          "output_type": "execute_result",
          "data": {
            "text/plain": [
              "                 Model       MSE       MAE       R^2\n",
              "SVR_D       SVR_D_best  0.007000  0.071352  0.851234\n",
              "SVR_D    SVR_D_default  0.019916  0.092207  0.576713\n",
              "SVR_W  SVR_W_default\\t  0.049900  0.147572  0.291425"
            ],
            "text/html": [
              "\n",
              "  <div id=\"df-c8f3f381-f5da-43e9-bf03-049c06c0d9cc\" class=\"colab-df-container\">\n",
              "    <div>\n",
              "<style scoped>\n",
              "    .dataframe tbody tr th:only-of-type {\n",
              "        vertical-align: middle;\n",
              "    }\n",
              "\n",
              "    .dataframe tbody tr th {\n",
              "        vertical-align: top;\n",
              "    }\n",
              "\n",
              "    .dataframe thead th {\n",
              "        text-align: right;\n",
              "    }\n",
              "</style>\n",
              "<table border=\"1\" class=\"dataframe\">\n",
              "  <thead>\n",
              "    <tr style=\"text-align: right;\">\n",
              "      <th></th>\n",
              "      <th>Model</th>\n",
              "      <th>MSE</th>\n",
              "      <th>MAE</th>\n",
              "      <th>R^2</th>\n",
              "    </tr>\n",
              "  </thead>\n",
              "  <tbody>\n",
              "    <tr>\n",
              "      <th>SVR_D</th>\n",
              "      <td>SVR_D_best</td>\n",
              "      <td>0.007000</td>\n",
              "      <td>0.071352</td>\n",
              "      <td>0.851234</td>\n",
              "    </tr>\n",
              "    <tr>\n",
              "      <th>SVR_D</th>\n",
              "      <td>SVR_D_default</td>\n",
              "      <td>0.019916</td>\n",
              "      <td>0.092207</td>\n",
              "      <td>0.576713</td>\n",
              "    </tr>\n",
              "    <tr>\n",
              "      <th>SVR_W</th>\n",
              "      <td>SVR_W_default\\t</td>\n",
              "      <td>0.049900</td>\n",
              "      <td>0.147572</td>\n",
              "      <td>0.291425</td>\n",
              "    </tr>\n",
              "  </tbody>\n",
              "</table>\n",
              "</div>\n",
              "    <div class=\"colab-df-buttons\">\n",
              "\n",
              "  <div class=\"colab-df-container\">\n",
              "    <button class=\"colab-df-convert\" onclick=\"convertToInteractive('df-c8f3f381-f5da-43e9-bf03-049c06c0d9cc')\"\n",
              "            title=\"Convert this dataframe to an interactive table.\"\n",
              "            style=\"display:none;\">\n",
              "\n",
              "  <svg xmlns=\"http://www.w3.org/2000/svg\" height=\"24px\" viewBox=\"0 -960 960 960\">\n",
              "    <path d=\"M120-120v-720h720v720H120Zm60-500h600v-160H180v160Zm220 220h160v-160H400v160Zm0 220h160v-160H400v160ZM180-400h160v-160H180v160Zm440 0h160v-160H620v160ZM180-180h160v-160H180v160Zm440 0h160v-160H620v160Z\"/>\n",
              "  </svg>\n",
              "    </button>\n",
              "\n",
              "  <style>\n",
              "    .colab-df-container {\n",
              "      display:flex;\n",
              "      gap: 12px;\n",
              "    }\n",
              "\n",
              "    .colab-df-convert {\n",
              "      background-color: #E8F0FE;\n",
              "      border: none;\n",
              "      border-radius: 50%;\n",
              "      cursor: pointer;\n",
              "      display: none;\n",
              "      fill: #1967D2;\n",
              "      height: 32px;\n",
              "      padding: 0 0 0 0;\n",
              "      width: 32px;\n",
              "    }\n",
              "\n",
              "    .colab-df-convert:hover {\n",
              "      background-color: #E2EBFA;\n",
              "      box-shadow: 0px 1px 2px rgba(60, 64, 67, 0.3), 0px 1px 3px 1px rgba(60, 64, 67, 0.15);\n",
              "      fill: #174EA6;\n",
              "    }\n",
              "\n",
              "    .colab-df-buttons div {\n",
              "      margin-bottom: 4px;\n",
              "    }\n",
              "\n",
              "    [theme=dark] .colab-df-convert {\n",
              "      background-color: #3B4455;\n",
              "      fill: #D2E3FC;\n",
              "    }\n",
              "\n",
              "    [theme=dark] .colab-df-convert:hover {\n",
              "      background-color: #434B5C;\n",
              "      box-shadow: 0px 1px 3px 1px rgba(0, 0, 0, 0.15);\n",
              "      filter: drop-shadow(0px 1px 2px rgba(0, 0, 0, 0.3));\n",
              "      fill: #FFFFFF;\n",
              "    }\n",
              "  </style>\n",
              "\n",
              "    <script>\n",
              "      const buttonEl =\n",
              "        document.querySelector('#df-c8f3f381-f5da-43e9-bf03-049c06c0d9cc button.colab-df-convert');\n",
              "      buttonEl.style.display =\n",
              "        google.colab.kernel.accessAllowed ? 'block' : 'none';\n",
              "\n",
              "      async function convertToInteractive(key) {\n",
              "        const element = document.querySelector('#df-c8f3f381-f5da-43e9-bf03-049c06c0d9cc');\n",
              "        const dataTable =\n",
              "          await google.colab.kernel.invokeFunction('convertToInteractive',\n",
              "                                                    [key], {});\n",
              "        if (!dataTable) return;\n",
              "\n",
              "        const docLinkHtml = 'Like what you see? Visit the ' +\n",
              "          '<a target=\"_blank\" href=https://colab.research.google.com/notebooks/data_table.ipynb>data table notebook</a>'\n",
              "          + ' to learn more about interactive tables.';\n",
              "        element.innerHTML = '';\n",
              "        dataTable['output_type'] = 'display_data';\n",
              "        await google.colab.output.renderOutput(dataTable, element);\n",
              "        const docLink = document.createElement('div');\n",
              "        docLink.innerHTML = docLinkHtml;\n",
              "        element.appendChild(docLink);\n",
              "      }\n",
              "    </script>\n",
              "  </div>\n",
              "\n",
              "\n",
              "<div id=\"df-43774612-db37-4aff-ada3-eae51b6e880f\">\n",
              "  <button class=\"colab-df-quickchart\" onclick=\"quickchart('df-43774612-db37-4aff-ada3-eae51b6e880f')\"\n",
              "            title=\"Suggest charts.\"\n",
              "            style=\"display:none;\">\n",
              "\n",
              "<svg xmlns=\"http://www.w3.org/2000/svg\" height=\"24px\"viewBox=\"0 0 24 24\"\n",
              "     width=\"24px\">\n",
              "    <g>\n",
              "        <path d=\"M19 3H5c-1.1 0-2 .9-2 2v14c0 1.1.9 2 2 2h14c1.1 0 2-.9 2-2V5c0-1.1-.9-2-2-2zM9 17H7v-7h2v7zm4 0h-2V7h2v10zm4 0h-2v-4h2v4z\"/>\n",
              "    </g>\n",
              "</svg>\n",
              "  </button>\n",
              "\n",
              "<style>\n",
              "  .colab-df-quickchart {\n",
              "      --bg-color: #E8F0FE;\n",
              "      --fill-color: #1967D2;\n",
              "      --hover-bg-color: #E2EBFA;\n",
              "      --hover-fill-color: #174EA6;\n",
              "      --disabled-fill-color: #AAA;\n",
              "      --disabled-bg-color: #DDD;\n",
              "  }\n",
              "\n",
              "  [theme=dark] .colab-df-quickchart {\n",
              "      --bg-color: #3B4455;\n",
              "      --fill-color: #D2E3FC;\n",
              "      --hover-bg-color: #434B5C;\n",
              "      --hover-fill-color: #FFFFFF;\n",
              "      --disabled-bg-color: #3B4455;\n",
              "      --disabled-fill-color: #666;\n",
              "  }\n",
              "\n",
              "  .colab-df-quickchart {\n",
              "    background-color: var(--bg-color);\n",
              "    border: none;\n",
              "    border-radius: 50%;\n",
              "    cursor: pointer;\n",
              "    display: none;\n",
              "    fill: var(--fill-color);\n",
              "    height: 32px;\n",
              "    padding: 0;\n",
              "    width: 32px;\n",
              "  }\n",
              "\n",
              "  .colab-df-quickchart:hover {\n",
              "    background-color: var(--hover-bg-color);\n",
              "    box-shadow: 0 1px 2px rgba(60, 64, 67, 0.3), 0 1px 3px 1px rgba(60, 64, 67, 0.15);\n",
              "    fill: var(--button-hover-fill-color);\n",
              "  }\n",
              "\n",
              "  .colab-df-quickchart-complete:disabled,\n",
              "  .colab-df-quickchart-complete:disabled:hover {\n",
              "    background-color: var(--disabled-bg-color);\n",
              "    fill: var(--disabled-fill-color);\n",
              "    box-shadow: none;\n",
              "  }\n",
              "\n",
              "  .colab-df-spinner {\n",
              "    border: 2px solid var(--fill-color);\n",
              "    border-color: transparent;\n",
              "    border-bottom-color: var(--fill-color);\n",
              "    animation:\n",
              "      spin 1s steps(1) infinite;\n",
              "  }\n",
              "\n",
              "  @keyframes spin {\n",
              "    0% {\n",
              "      border-color: transparent;\n",
              "      border-bottom-color: var(--fill-color);\n",
              "      border-left-color: var(--fill-color);\n",
              "    }\n",
              "    20% {\n",
              "      border-color: transparent;\n",
              "      border-left-color: var(--fill-color);\n",
              "      border-top-color: var(--fill-color);\n",
              "    }\n",
              "    30% {\n",
              "      border-color: transparent;\n",
              "      border-left-color: var(--fill-color);\n",
              "      border-top-color: var(--fill-color);\n",
              "      border-right-color: var(--fill-color);\n",
              "    }\n",
              "    40% {\n",
              "      border-color: transparent;\n",
              "      border-right-color: var(--fill-color);\n",
              "      border-top-color: var(--fill-color);\n",
              "    }\n",
              "    60% {\n",
              "      border-color: transparent;\n",
              "      border-right-color: var(--fill-color);\n",
              "    }\n",
              "    80% {\n",
              "      border-color: transparent;\n",
              "      border-right-color: var(--fill-color);\n",
              "      border-bottom-color: var(--fill-color);\n",
              "    }\n",
              "    90% {\n",
              "      border-color: transparent;\n",
              "      border-bottom-color: var(--fill-color);\n",
              "    }\n",
              "  }\n",
              "</style>\n",
              "\n",
              "  <script>\n",
              "    async function quickchart(key) {\n",
              "      const quickchartButtonEl =\n",
              "        document.querySelector('#' + key + ' button');\n",
              "      quickchartButtonEl.disabled = true;  // To prevent multiple clicks.\n",
              "      quickchartButtonEl.classList.add('colab-df-spinner');\n",
              "      try {\n",
              "        const charts = await google.colab.kernel.invokeFunction(\n",
              "            'suggestCharts', [key], {});\n",
              "      } catch (error) {\n",
              "        console.error('Error during call to suggestCharts:', error);\n",
              "      }\n",
              "      quickchartButtonEl.classList.remove('colab-df-spinner');\n",
              "      quickchartButtonEl.classList.add('colab-df-quickchart-complete');\n",
              "    }\n",
              "    (() => {\n",
              "      let quickchartButtonEl =\n",
              "        document.querySelector('#df-43774612-db37-4aff-ada3-eae51b6e880f button');\n",
              "      quickchartButtonEl.style.display =\n",
              "        google.colab.kernel.accessAllowed ? 'block' : 'none';\n",
              "    })();\n",
              "  </script>\n",
              "</div>\n",
              "    </div>\n",
              "  </div>\n"
            ]
          },
          "metadata": {},
          "execution_count": 29
        }
      ],
      "source": [
        "m_s = pd.concat([m_s, svr_r_1])\n",
        "m_s_s = m_s.sort_values(by = ['MAE', 'R^2'])\n",
        "m_s_s"
      ],
      "id": "7T7V1XrWcwXc"
    },
    {
      "cell_type": "code",
      "execution_count": 30,
      "metadata": {
        "colab": {
          "base_uri": "https://localhost:8080/"
        },
        "id": "03DNnFQBcwXd",
        "outputId": "20ec478b-8c29-40f4-9270-26b8f5b899c5"
      },
      "outputs": [
        {
          "output_type": "execute_result",
          "data": {
            "text/plain": [
              "{'C': 100, 'gamma': 0.001, 'kernel': 'rbf'}"
            ]
          },
          "metadata": {},
          "execution_count": 30
        }
      ],
      "source": [
        "# поиск лучших гиперпараметров модели с помощью поиска по сетке с перекрестной проверкой, количество блоков равно 10\n",
        "GSCV_svr_1_best = GridSearchCV(svr_1, svr_1_params, n_jobs =- 1, cv = 10)\n",
        "GSCV_svr_1_best.fit(x_train_2, y_train_2)\n",
        "GSCV_svr_1_best.best_params_"
      ],
      "id": "03DNnFQBcwXd"
    },
    {
      "cell_type": "code",
      "execution_count": 31,
      "metadata": {
        "id": "UqPKPgWNcwXh"
      },
      "outputs": [],
      "source": [
        "svr_1_best = GSCV_svr_1_best.best_estimator_"
      ],
      "id": "UqPKPgWNcwXh"
    },
    {
      "cell_type": "code",
      "execution_count": 32,
      "metadata": {
        "id": "3i8tCKvGcwXh"
      },
      "outputs": [],
      "source": [
        "svr_1_best_r = pd.DataFrame({\n",
        "   'Model': 'SVR_Width_best',\n",
        "   'MSE': metrics.mean_squared_error(y_test_2, svr_1_best.predict(x_test_2)),\n",
        "   'MAE': metrics.mean_absolute_error(y_test_2, svr_best.predict(x_test_2)),\n",
        "   'R^2': metrics.r2_score(y_test_2, svr_1_best.predict(x_test_2))\n",
        "   }, index=['SVR_W'])"
      ],
      "id": "3i8tCKvGcwXh"
    },
    {
      "cell_type": "code",
      "execution_count": 33,
      "metadata": {
        "colab": {
          "base_uri": "https://localhost:8080/"
        },
        "id": "r7oStBN5cwXh",
        "outputId": "602d021a-61e7-4874-a3c3-ab2d77c6446f"
      },
      "outputs": [
        {
          "output_type": "stream",
          "name": "stdout",
          "text": [
            "Среднеквадратичная ошибка, полученная с лучшими гиперпараметрами: 0.007000946439664837\n",
            "Средняя абсолютная ошибка, полученная с лучшими гиперпараметрами: 0.07010227285709206\n",
            "Коэффициент детерминации, полученный с лучшими гиперпараметрами: 0.9005874150120352\n"
          ]
        }
      ],
      "source": [
        "print(\"Среднеквадратичная ошибка, полученная с лучшими гиперпараметрами:\", mean_squared_error(y_test_2, svr_1_best.predict(x_test_2)))\n",
        "print(\"Средняя абсолютная ошибка, полученная с лучшими гиперпараметрами:\", mean_absolute_error(y_test_2, svr_1_best.predict(x_test_2)))\n",
        "print(\"Коэффициент детерминации, полученный с лучшими гиперпараметрами:\", r2_score(y_test_2, svr_1_best.predict(x_test_2)))"
      ],
      "id": "r7oStBN5cwXh"
    },
    {
      "cell_type": "code",
      "execution_count": 34,
      "metadata": {
        "colab": {
          "base_uri": "https://localhost:8080/",
          "height": 175
        },
        "id": "JnWkoDZAcwXh",
        "outputId": "b59e35b3-c2f3-405b-c189-0799d5992424"
      },
      "outputs": [
        {
          "output_type": "execute_result",
          "data": {
            "text/plain": [
              "                 Model       MSE       MAE       R^2\n",
              "SVR_D       SVR_D_best  0.007000  0.071352  0.851234\n",
              "SVR_D    SVR_D_default  0.019916  0.092207  0.576713\n",
              "SVR_W  SVR_W_default\\t  0.049900  0.147572  0.291425\n",
              "SVR_W   SVR_Width_best  0.007001  0.770078  0.900587"
            ],
            "text/html": [
              "\n",
              "  <div id=\"df-ab6a19af-ccdb-4f37-bc8b-1f4b540f5fb9\" class=\"colab-df-container\">\n",
              "    <div>\n",
              "<style scoped>\n",
              "    .dataframe tbody tr th:only-of-type {\n",
              "        vertical-align: middle;\n",
              "    }\n",
              "\n",
              "    .dataframe tbody tr th {\n",
              "        vertical-align: top;\n",
              "    }\n",
              "\n",
              "    .dataframe thead th {\n",
              "        text-align: right;\n",
              "    }\n",
              "</style>\n",
              "<table border=\"1\" class=\"dataframe\">\n",
              "  <thead>\n",
              "    <tr style=\"text-align: right;\">\n",
              "      <th></th>\n",
              "      <th>Model</th>\n",
              "      <th>MSE</th>\n",
              "      <th>MAE</th>\n",
              "      <th>R^2</th>\n",
              "    </tr>\n",
              "  </thead>\n",
              "  <tbody>\n",
              "    <tr>\n",
              "      <th>SVR_D</th>\n",
              "      <td>SVR_D_best</td>\n",
              "      <td>0.007000</td>\n",
              "      <td>0.071352</td>\n",
              "      <td>0.851234</td>\n",
              "    </tr>\n",
              "    <tr>\n",
              "      <th>SVR_D</th>\n",
              "      <td>SVR_D_default</td>\n",
              "      <td>0.019916</td>\n",
              "      <td>0.092207</td>\n",
              "      <td>0.576713</td>\n",
              "    </tr>\n",
              "    <tr>\n",
              "      <th>SVR_W</th>\n",
              "      <td>SVR_W_default\\t</td>\n",
              "      <td>0.049900</td>\n",
              "      <td>0.147572</td>\n",
              "      <td>0.291425</td>\n",
              "    </tr>\n",
              "    <tr>\n",
              "      <th>SVR_W</th>\n",
              "      <td>SVR_Width_best</td>\n",
              "      <td>0.007001</td>\n",
              "      <td>0.770078</td>\n",
              "      <td>0.900587</td>\n",
              "    </tr>\n",
              "  </tbody>\n",
              "</table>\n",
              "</div>\n",
              "    <div class=\"colab-df-buttons\">\n",
              "\n",
              "  <div class=\"colab-df-container\">\n",
              "    <button class=\"colab-df-convert\" onclick=\"convertToInteractive('df-ab6a19af-ccdb-4f37-bc8b-1f4b540f5fb9')\"\n",
              "            title=\"Convert this dataframe to an interactive table.\"\n",
              "            style=\"display:none;\">\n",
              "\n",
              "  <svg xmlns=\"http://www.w3.org/2000/svg\" height=\"24px\" viewBox=\"0 -960 960 960\">\n",
              "    <path d=\"M120-120v-720h720v720H120Zm60-500h600v-160H180v160Zm220 220h160v-160H400v160Zm0 220h160v-160H400v160ZM180-400h160v-160H180v160Zm440 0h160v-160H620v160ZM180-180h160v-160H180v160Zm440 0h160v-160H620v160Z\"/>\n",
              "  </svg>\n",
              "    </button>\n",
              "\n",
              "  <style>\n",
              "    .colab-df-container {\n",
              "      display:flex;\n",
              "      gap: 12px;\n",
              "    }\n",
              "\n",
              "    .colab-df-convert {\n",
              "      background-color: #E8F0FE;\n",
              "      border: none;\n",
              "      border-radius: 50%;\n",
              "      cursor: pointer;\n",
              "      display: none;\n",
              "      fill: #1967D2;\n",
              "      height: 32px;\n",
              "      padding: 0 0 0 0;\n",
              "      width: 32px;\n",
              "    }\n",
              "\n",
              "    .colab-df-convert:hover {\n",
              "      background-color: #E2EBFA;\n",
              "      box-shadow: 0px 1px 2px rgba(60, 64, 67, 0.3), 0px 1px 3px 1px rgba(60, 64, 67, 0.15);\n",
              "      fill: #174EA6;\n",
              "    }\n",
              "\n",
              "    .colab-df-buttons div {\n",
              "      margin-bottom: 4px;\n",
              "    }\n",
              "\n",
              "    [theme=dark] .colab-df-convert {\n",
              "      background-color: #3B4455;\n",
              "      fill: #D2E3FC;\n",
              "    }\n",
              "\n",
              "    [theme=dark] .colab-df-convert:hover {\n",
              "      background-color: #434B5C;\n",
              "      box-shadow: 0px 1px 3px 1px rgba(0, 0, 0, 0.15);\n",
              "      filter: drop-shadow(0px 1px 2px rgba(0, 0, 0, 0.3));\n",
              "      fill: #FFFFFF;\n",
              "    }\n",
              "  </style>\n",
              "\n",
              "    <script>\n",
              "      const buttonEl =\n",
              "        document.querySelector('#df-ab6a19af-ccdb-4f37-bc8b-1f4b540f5fb9 button.colab-df-convert');\n",
              "      buttonEl.style.display =\n",
              "        google.colab.kernel.accessAllowed ? 'block' : 'none';\n",
              "\n",
              "      async function convertToInteractive(key) {\n",
              "        const element = document.querySelector('#df-ab6a19af-ccdb-4f37-bc8b-1f4b540f5fb9');\n",
              "        const dataTable =\n",
              "          await google.colab.kernel.invokeFunction('convertToInteractive',\n",
              "                                                    [key], {});\n",
              "        if (!dataTable) return;\n",
              "\n",
              "        const docLinkHtml = 'Like what you see? Visit the ' +\n",
              "          '<a target=\"_blank\" href=https://colab.research.google.com/notebooks/data_table.ipynb>data table notebook</a>'\n",
              "          + ' to learn more about interactive tables.';\n",
              "        element.innerHTML = '';\n",
              "        dataTable['output_type'] = 'display_data';\n",
              "        await google.colab.output.renderOutput(dataTable, element);\n",
              "        const docLink = document.createElement('div');\n",
              "        docLink.innerHTML = docLinkHtml;\n",
              "        element.appendChild(docLink);\n",
              "      }\n",
              "    </script>\n",
              "  </div>\n",
              "\n",
              "\n",
              "<div id=\"df-d7fe066d-fe9d-4c47-82d9-9349596ff511\">\n",
              "  <button class=\"colab-df-quickchart\" onclick=\"quickchart('df-d7fe066d-fe9d-4c47-82d9-9349596ff511')\"\n",
              "            title=\"Suggest charts.\"\n",
              "            style=\"display:none;\">\n",
              "\n",
              "<svg xmlns=\"http://www.w3.org/2000/svg\" height=\"24px\"viewBox=\"0 0 24 24\"\n",
              "     width=\"24px\">\n",
              "    <g>\n",
              "        <path d=\"M19 3H5c-1.1 0-2 .9-2 2v14c0 1.1.9 2 2 2h14c1.1 0 2-.9 2-2V5c0-1.1-.9-2-2-2zM9 17H7v-7h2v7zm4 0h-2V7h2v10zm4 0h-2v-4h2v4z\"/>\n",
              "    </g>\n",
              "</svg>\n",
              "  </button>\n",
              "\n",
              "<style>\n",
              "  .colab-df-quickchart {\n",
              "      --bg-color: #E8F0FE;\n",
              "      --fill-color: #1967D2;\n",
              "      --hover-bg-color: #E2EBFA;\n",
              "      --hover-fill-color: #174EA6;\n",
              "      --disabled-fill-color: #AAA;\n",
              "      --disabled-bg-color: #DDD;\n",
              "  }\n",
              "\n",
              "  [theme=dark] .colab-df-quickchart {\n",
              "      --bg-color: #3B4455;\n",
              "      --fill-color: #D2E3FC;\n",
              "      --hover-bg-color: #434B5C;\n",
              "      --hover-fill-color: #FFFFFF;\n",
              "      --disabled-bg-color: #3B4455;\n",
              "      --disabled-fill-color: #666;\n",
              "  }\n",
              "\n",
              "  .colab-df-quickchart {\n",
              "    background-color: var(--bg-color);\n",
              "    border: none;\n",
              "    border-radius: 50%;\n",
              "    cursor: pointer;\n",
              "    display: none;\n",
              "    fill: var(--fill-color);\n",
              "    height: 32px;\n",
              "    padding: 0;\n",
              "    width: 32px;\n",
              "  }\n",
              "\n",
              "  .colab-df-quickchart:hover {\n",
              "    background-color: var(--hover-bg-color);\n",
              "    box-shadow: 0 1px 2px rgba(60, 64, 67, 0.3), 0 1px 3px 1px rgba(60, 64, 67, 0.15);\n",
              "    fill: var(--button-hover-fill-color);\n",
              "  }\n",
              "\n",
              "  .colab-df-quickchart-complete:disabled,\n",
              "  .colab-df-quickchart-complete:disabled:hover {\n",
              "    background-color: var(--disabled-bg-color);\n",
              "    fill: var(--disabled-fill-color);\n",
              "    box-shadow: none;\n",
              "  }\n",
              "\n",
              "  .colab-df-spinner {\n",
              "    border: 2px solid var(--fill-color);\n",
              "    border-color: transparent;\n",
              "    border-bottom-color: var(--fill-color);\n",
              "    animation:\n",
              "      spin 1s steps(1) infinite;\n",
              "  }\n",
              "\n",
              "  @keyframes spin {\n",
              "    0% {\n",
              "      border-color: transparent;\n",
              "      border-bottom-color: var(--fill-color);\n",
              "      border-left-color: var(--fill-color);\n",
              "    }\n",
              "    20% {\n",
              "      border-color: transparent;\n",
              "      border-left-color: var(--fill-color);\n",
              "      border-top-color: var(--fill-color);\n",
              "    }\n",
              "    30% {\n",
              "      border-color: transparent;\n",
              "      border-left-color: var(--fill-color);\n",
              "      border-top-color: var(--fill-color);\n",
              "      border-right-color: var(--fill-color);\n",
              "    }\n",
              "    40% {\n",
              "      border-color: transparent;\n",
              "      border-right-color: var(--fill-color);\n",
              "      border-top-color: var(--fill-color);\n",
              "    }\n",
              "    60% {\n",
              "      border-color: transparent;\n",
              "      border-right-color: var(--fill-color);\n",
              "    }\n",
              "    80% {\n",
              "      border-color: transparent;\n",
              "      border-right-color: var(--fill-color);\n",
              "      border-bottom-color: var(--fill-color);\n",
              "    }\n",
              "    90% {\n",
              "      border-color: transparent;\n",
              "      border-bottom-color: var(--fill-color);\n",
              "    }\n",
              "  }\n",
              "</style>\n",
              "\n",
              "  <script>\n",
              "    async function quickchart(key) {\n",
              "      const quickchartButtonEl =\n",
              "        document.querySelector('#' + key + ' button');\n",
              "      quickchartButtonEl.disabled = true;  // To prevent multiple clicks.\n",
              "      quickchartButtonEl.classList.add('colab-df-spinner');\n",
              "      try {\n",
              "        const charts = await google.colab.kernel.invokeFunction(\n",
              "            'suggestCharts', [key], {});\n",
              "      } catch (error) {\n",
              "        console.error('Error during call to suggestCharts:', error);\n",
              "      }\n",
              "      quickchartButtonEl.classList.remove('colab-df-spinner');\n",
              "      quickchartButtonEl.classList.add('colab-df-quickchart-complete');\n",
              "    }\n",
              "    (() => {\n",
              "      let quickchartButtonEl =\n",
              "        document.querySelector('#df-d7fe066d-fe9d-4c47-82d9-9349596ff511 button');\n",
              "      quickchartButtonEl.style.display =\n",
              "        google.colab.kernel.accessAllowed ? 'block' : 'none';\n",
              "    })();\n",
              "  </script>\n",
              "</div>\n",
              "    </div>\n",
              "  </div>\n"
            ]
          },
          "metadata": {},
          "execution_count": 34
        }
      ],
      "source": [
        "m_s = pd.concat([m_s, svr_1_best_r])\n",
        "m_s_s = m_s.sort_values(by = ['MAE', 'R^2'])\n",
        "m_s_s"
      ],
      "id": "JnWkoDZAcwXh"
    },
    {
      "cell_type": "code",
      "execution_count": 35,
      "metadata": {
        "colab": {
          "base_uri": "https://localhost:8080/",
          "height": 813
        },
        "id": "HW3rp1w8cwXh",
        "outputId": "2664e68b-c6aa-4a20-e21a-414c6a3888b2"
      },
      "outputs": [
        {
          "output_type": "execute_result",
          "data": {
            "text/plain": [
              "<matplotlib.legend.Legend at 0x7d4f59a59600>"
            ]
          },
          "metadata": {},
          "execution_count": 35
        },
        {
          "output_type": "display_data",
          "data": {
            "text/plain": [
              "<Figure size 2000x1000 with 1 Axes>"
            ],
            "image/png": "[encoded data removed]"
          },
          "metadata": {}
        }
      ],
      "source": [
        "plt.figure(figsize = (20, 10))\n",
        "plt.suptitle(\"Метод опорных векторов Support Vector Regression\", size = 21)\n",
        "plt.subplots_adjust(top = 0.90)\n",
        "plt.plot(range(len(y_test_2)), y_test_2, label = \"Тестовые значения 'Width'\", color = '#059bff', linewidth = 4)\n",
        "plt.plot(range(len(svr_1_best.predict(x_test_2))), svr_1_best.predict(x_test_2), color = '#78150c', label = \"Прогнозные значения SVR 'Width'\", linewidth = 4)\n",
        "plt.legend(loc = 'best', fontsize = 10)"
      ],
      "id": "HW3rp1w8cwXh"
    },
    {
      "cell_type": "markdown",
      "metadata": {
        "id": "Rs1tpdh51LXU"
      },
      "source": [
        "### Нейронные сети"
      ],
      "id": "Rs1tpdh51LXU"
    },
    {
      "cell_type": "code",
      "execution_count": 36,
      "metadata": {
        "id": "6KUOhBM4cwXn"
      },
      "outputs": [],
      "source": [
        "n_r = tf.keras.layers.Normalization(axis =- 1)"
      ],
      "id": "6KUOhBM4cwXn"
    },
    {
      "cell_type": "code",
      "execution_count": 37,
      "metadata": {
        "id": "J3_5kBJmcwXn"
      },
      "outputs": [],
      "source": [
        "n_r.adapt(np.array(x))"
      ],
      "id": "J3_5kBJmcwXn"
    },
    {
      "cell_type": "code",
      "execution_count": 38,
      "metadata": {
        "id": "GzJgHBX1cwXo"
      },
      "outputs": [],
      "source": [
        "# Функция, собирающая нейросеть заданной архитектуры\n",
        "def c_m():\n",
        "    return tf.keras.Sequential([\n",
        "      keras.layers.Input(shape = (4,), name = 'in'),\n",
        "      keras.layers.Dense(units = 64, activation = 'relu', name = 'dense_1'),\n",
        "      keras.layers.Dense(units = 32, activation = 'relu', name = 'dense_2'),\n",
        "      keras.layers.Dense(units = 12, activation = 'relu', name = 'dense_3'),\n",
        "      keras.layers.Dense(units = 2, name = 'out')\n",
        "    ])"
      ],
      "id": "GzJgHBX1cwXo"
    },
    {
      "cell_type": "code",
      "execution_count": 39,
      "metadata": {
        "id": "J5uGogF6cwXo"
      },
      "outputs": [],
      "source": [
        "# Функция, компилирующая нейросеть с заданными параметрами\n",
        "def com_m(model):\n",
        "    model.compile(\n",
        "             optimizer = keras.optimizers.Adam(),\n",
        "             loss = keras.losses.MeanAbsolutePercentageError(),\n",
        "             metrics = [tf.keras.metrics.RootMeanSquaredError()]\n",
        "             )\n",
        "    return model"
      ],
      "id": "J5uGogF6cwXo"
    },
    {
      "cell_type": "code",
      "execution_count": 40,
      "metadata": {
        "id": "RlgS6JcmcwXp"
      },
      "outputs": [],
      "source": [
        "# cборка\n",
        "model_1 = c_m()"
      ],
      "id": "RlgS6JcmcwXp"
    },
    {
      "cell_type": "code",
      "execution_count": 41,
      "metadata": {
        "id": "MAmqsngkcwXp"
      },
      "outputs": [],
      "source": [
        "# компиляция\n",
        "model_1 = com_m(model_1)"
      ],
      "id": "MAmqsngkcwXp"
    },
    {
      "cell_type": "code",
      "execution_count": 42,
      "metadata": {
        "colab": {
          "base_uri": "https://localhost:8080/"
        },
        "id": "ToT1UORmcwXp",
        "outputId": "ee5ca45e-dd82-49a7-a9ea-119a46a40f8a"
      },
      "outputs": [
        {
          "output_type": "stream",
          "name": "stdout",
          "text": [
            "Model: \"sequential\"\n",
            "_________________________________________________________________\n",
            " Layer (type)                Output Shape              Param #   \n",
            "=================================================================\n",
            " dense_1 (Dense)             (None, 64)                320       \n",
            "                                                                 \n",
            " dense_2 (Dense)             (None, 32)                2080      \n",
            "                                                                 \n",
            " dense_3 (Dense)             (None, 12)                396       \n",
            "                                                                 \n",
            " out (Dense)                 (None, 2)                 26        \n",
            "                                                                 \n",
            "=================================================================\n",
            "Total params: 2822 (11.02 KB)\n",
            "Trainable params: 2822 (11.02 KB)\n",
            "Non-trainable params: 0 (0.00 Byte)\n",
            "_________________________________________________________________\n"
          ]
        }
      ],
      "source": [
        "# сводная информация по архитектуре сети\n",
        "model_1.summary()"
      ],
      "id": "ToT1UORmcwXp"
    },
    {
      "cell_type": "code",
      "execution_count": 43,
      "metadata": {
        "colab": {
          "base_uri": "https://localhost:8080/",
          "height": 533
        },
        "id": "HKvv5-lqcwXp",
        "outputId": "fa752396-bcff-45ec-985f-26ca73ecd3bc"
      },
      "outputs": [
        {
          "output_type": "execute_result",
          "data": {
            "image/png": "[encoded data removed]",
            "text/plain": [
              "<IPython.core.display.Image object>"
            ]
          },
          "metadata": {},
          "execution_count": 43
        }
      ],
      "source": [
        "# архитектура нейросети\n",
        "keras.utils.plot_model(model_1, show_shapes = True, show_layer_names = True, show_layer_activations = True)"
      ],
      "id": "HKvv5-lqcwXp"
    },
    {
      "cell_type": "code",
      "execution_count": 44,
      "metadata": {
        "colab": {
          "base_uri": "https://localhost:8080/"
        },
        "id": "kgeQb7FfcwXq",
        "outputId": "43ba883d-dbb4-4a4b-a495-f579d44e2301"
      },
      "outputs": [
        {
          "output_type": "stream",
          "name": "stdout",
          "text": [
            "Epoch 1/100\n",
            "3/3 [==============================] - 1s 106ms/step - loss: 247.0973 - root_mean_squared_error: 3.8334 - val_loss: 78.7702 - val_root_mean_squared_error: 2.0478\n",
            "Epoch 2/100\n",
            "3/3 [==============================] - 0s 17ms/step - loss: 86.5104 - root_mean_squared_error: 1.8708 - val_loss: 75.5150 - val_root_mean_squared_error: 1.4005\n",
            "Epoch 3/100\n",
            "3/3 [==============================] - 0s 17ms/step - loss: 67.3374 - root_mean_squared_error: 1.2535 - val_loss: 77.2439 - val_root_mean_squared_error: 1.4732\n",
            "Epoch 4/100\n",
            "3/3 [==============================] - 0s 18ms/step - loss: 67.9345 - root_mean_squared_error: 1.3434 - val_loss: 54.8020 - val_root_mean_squared_error: 0.8539\n",
            "Epoch 5/100\n",
            "3/3 [==============================] - 0s 19ms/step - loss: 52.8618 - root_mean_squared_error: 0.8383 - val_loss: 51.9194 - val_root_mean_squared_error: 0.8748\n",
            "Epoch 6/100\n",
            "3/3 [==============================] - 0s 26ms/step - loss: 41.7633 - root_mean_squared_error: 0.7288 - val_loss: 37.1285 - val_root_mean_squared_error: 0.6609\n",
            "Epoch 7/100\n",
            "3/3 [==============================] - 0s 17ms/step - loss: 33.6348 - root_mean_squared_error: 0.6250 - val_loss: 19.8343 - val_root_mean_squared_error: 0.3983\n",
            "Epoch 8/100\n",
            "3/3 [==============================] - 0s 18ms/step - loss: 31.2206 - root_mean_squared_error: 0.5589 - val_loss: 32.7298 - val_root_mean_squared_error: 0.5321\n",
            "Epoch 9/100\n",
            "3/3 [==============================] - 0s 17ms/step - loss: 23.0852 - root_mean_squared_error: 0.4139 - val_loss: 30.1933 - val_root_mean_squared_error: 0.6087\n",
            "Epoch 10/100\n",
            "3/3 [==============================] - 0s 22ms/step - loss: 29.0188 - root_mean_squared_error: 0.5865 - val_loss: 17.0967 - val_root_mean_squared_error: 0.3089\n",
            "Epoch 11/100\n",
            "3/3 [==============================] - 0s 19ms/step - loss: 19.8807 - root_mean_squared_error: 0.3417 - val_loss: 15.5722 - val_root_mean_squared_error: 0.2911\n",
            "Epoch 12/100\n",
            "3/3 [==============================] - 0s 18ms/step - loss: 15.8836 - root_mean_squared_error: 0.3208 - val_loss: 15.6680 - val_root_mean_squared_error: 0.3416\n",
            "Epoch 13/100\n",
            "3/3 [==============================] - 0s 26ms/step - loss: 14.3613 - root_mean_squared_error: 0.3275 - val_loss: 13.3327 - val_root_mean_squared_error: 0.2727\n",
            "Epoch 14/100\n",
            "3/3 [==============================] - 0s 27ms/step - loss: 12.7316 - root_mean_squared_error: 0.2697 - val_loss: 11.3268 - val_root_mean_squared_error: 0.2604\n",
            "Epoch 15/100\n",
            "3/3 [==============================] - 0s 17ms/step - loss: 11.9105 - root_mean_squared_error: 0.2687 - val_loss: 10.2119 - val_root_mean_squared_error: 0.2251\n",
            "Epoch 16/100\n",
            "3/3 [==============================] - 0s 19ms/step - loss: 11.2901 - root_mean_squared_error: 0.2353 - val_loss: 9.1677 - val_root_mean_squared_error: 0.2364\n",
            "Epoch 17/100\n",
            "3/3 [==============================] - 0s 17ms/step - loss: 10.6343 - root_mean_squared_error: 0.2522 - val_loss: 12.9527 - val_root_mean_squared_error: 0.2407\n",
            "Epoch 18/100\n",
            "3/3 [==============================] - 0s 17ms/step - loss: 11.7344 - root_mean_squared_error: 0.2392 - val_loss: 10.3594 - val_root_mean_squared_error: 0.2208\n",
            "Epoch 19/100\n",
            "3/3 [==============================] - 0s 19ms/step - loss: 10.2261 - root_mean_squared_error: 0.2339 - val_loss: 9.3303 - val_root_mean_squared_error: 0.2176\n",
            "Epoch 20/100\n",
            "3/3 [==============================] - 0s 17ms/step - loss: 10.5916 - root_mean_squared_error: 0.2389 - val_loss: 11.5031 - val_root_mean_squared_error: 0.2542\n",
            "Epoch 21/100\n",
            "3/3 [==============================] - 0s 18ms/step - loss: 11.1251 - root_mean_squared_error: 0.2413 - val_loss: 11.6254 - val_root_mean_squared_error: 0.2454\n",
            "Epoch 22/100\n",
            "3/3 [==============================] - 0s 19ms/step - loss: 10.7183 - root_mean_squared_error: 0.2343 - val_loss: 10.8962 - val_root_mean_squared_error: 0.2166\n",
            "Epoch 23/100\n",
            "3/3 [==============================] - 0s 27ms/step - loss: 9.2557 - root_mean_squared_error: 0.2106 - val_loss: 13.3275 - val_root_mean_squared_error: 0.2370\n",
            "Epoch 24/100\n",
            "3/3 [==============================] - 0s 18ms/step - loss: 12.7001 - root_mean_squared_error: 0.2548 - val_loss: 9.4060 - val_root_mean_squared_error: 0.2019\n",
            "Epoch 25/100\n",
            "3/3 [==============================] - 0s 19ms/step - loss: 11.3504 - root_mean_squared_error: 0.2543 - val_loss: 14.1343 - val_root_mean_squared_error: 0.2549\n",
            "Epoch 26/100\n",
            "3/3 [==============================] - 0s 17ms/step - loss: 14.7469 - root_mean_squared_error: 0.2736 - val_loss: 12.2096 - val_root_mean_squared_error: 0.2389\n",
            "Epoch 27/100\n",
            "3/3 [==============================] - 0s 26ms/step - loss: 12.8986 - root_mean_squared_error: 0.2446 - val_loss: 14.7772 - val_root_mean_squared_error: 0.2921\n",
            "Epoch 28/100\n",
            "3/3 [==============================] - 0s 25ms/step - loss: 13.0200 - root_mean_squared_error: 0.2790 - val_loss: 10.3001 - val_root_mean_squared_error: 0.2121\n",
            "Epoch 29/100\n",
            "3/3 [==============================] - 0s 28ms/step - loss: 9.7747 - root_mean_squared_error: 0.2100 - val_loss: 15.7966 - val_root_mean_squared_error: 0.2877\n",
            "Epoch 30/100\n",
            "3/3 [==============================] - 0s 19ms/step - loss: 12.2388 - root_mean_squared_error: 0.2502 - val_loss: 16.5122 - val_root_mean_squared_error: 0.2911\n",
            "Epoch 31/100\n",
            "3/3 [==============================] - 0s 29ms/step - loss: 14.1566 - root_mean_squared_error: 0.2547 - val_loss: 16.7896 - val_root_mean_squared_error: 0.3546\n",
            "Epoch 32/100\n",
            "3/3 [==============================] - 0s 18ms/step - loss: 13.7490 - root_mean_squared_error: 0.3162 - val_loss: 20.1618 - val_root_mean_squared_error: 0.3315\n",
            "Epoch 33/100\n",
            "3/3 [==============================] - 0s 26ms/step - loss: 18.8013 - root_mean_squared_error: 0.3285 - val_loss: 18.0781 - val_root_mean_squared_error: 0.3070\n",
            "Epoch 34/100\n",
            "3/3 [==============================] - 0s 26ms/step - loss: 16.6129 - root_mean_squared_error: 0.2944 - val_loss: 9.6250 - val_root_mean_squared_error: 0.1984\n",
            "Epoch 35/100\n",
            "3/3 [==============================] - 0s 18ms/step - loss: 11.2753 - root_mean_squared_error: 0.2164 - val_loss: 16.1511 - val_root_mean_squared_error: 0.3308\n",
            "Epoch 36/100\n",
            "3/3 [==============================] - 0s 17ms/step - loss: 15.7092 - root_mean_squared_error: 0.3309 - val_loss: 14.5629 - val_root_mean_squared_error: 0.2665\n",
            "Epoch 37/100\n",
            "3/3 [==============================] - 0s 17ms/step - loss: 16.1867 - root_mean_squared_error: 0.2871 - val_loss: 11.0018 - val_root_mean_squared_error: 0.2085\n",
            "Epoch 38/100\n",
            "3/3 [==============================] - 0s 26ms/step - loss: 11.2024 - root_mean_squared_error: 0.2223 - val_loss: 9.3815 - val_root_mean_squared_error: 0.2087\n",
            "Epoch 39/100\n",
            "3/3 [==============================] - 0s 26ms/step - loss: 10.7419 - root_mean_squared_error: 0.2169 - val_loss: 11.0541 - val_root_mean_squared_error: 0.2401\n",
            "Epoch 40/100\n",
            "3/3 [==============================] - 0s 26ms/step - loss: 10.4585 - root_mean_squared_error: 0.2379 - val_loss: 7.6397 - val_root_mean_squared_error: 0.1678\n",
            "Epoch 41/100\n",
            "3/3 [==============================] - 0s 27ms/step - loss: 8.7742 - root_mean_squared_error: 0.1817 - val_loss: 8.7499 - val_root_mean_squared_error: 0.1675\n",
            "Epoch 42/100\n",
            "3/3 [==============================] - 0s 19ms/step - loss: 8.2888 - root_mean_squared_error: 0.1692 - val_loss: 8.1150 - val_root_mean_squared_error: 0.1664\n",
            "Epoch 43/100\n",
            "3/3 [==============================] - 0s 17ms/step - loss: 7.9648 - root_mean_squared_error: 0.1691 - val_loss: 7.7083 - val_root_mean_squared_error: 0.1629\n",
            "Epoch 44/100\n",
            "3/3 [==============================] - 0s 26ms/step - loss: 7.5200 - root_mean_squared_error: 0.1598 - val_loss: 10.8434 - val_root_mean_squared_error: 0.2037\n",
            "Epoch 45/100\n",
            "3/3 [==============================] - 0s 18ms/step - loss: 8.7962 - root_mean_squared_error: 0.1823 - val_loss: 10.3309 - val_root_mean_squared_error: 0.1787\n",
            "Epoch 46/100\n",
            "3/3 [==============================] - 0s 18ms/step - loss: 10.9217 - root_mean_squared_error: 0.1974 - val_loss: 9.7992 - val_root_mean_squared_error: 0.1941\n",
            "Epoch 47/100\n",
            "3/3 [==============================] - 0s 28ms/step - loss: 9.1009 - root_mean_squared_error: 0.1752 - val_loss: 16.9462 - val_root_mean_squared_error: 0.3260\n",
            "Epoch 48/100\n",
            "3/3 [==============================] - 0s 18ms/step - loss: 13.3506 - root_mean_squared_error: 0.2782 - val_loss: 15.8121 - val_root_mean_squared_error: 0.2702\n",
            "Epoch 49/100\n",
            "3/3 [==============================] - 0s 17ms/step - loss: 14.3225 - root_mean_squared_error: 0.2563 - val_loss: 16.6828 - val_root_mean_squared_error: 0.2599\n",
            "Epoch 50/100\n",
            "3/3 [==============================] - 0s 17ms/step - loss: 12.3276 - root_mean_squared_error: 0.2129 - val_loss: 23.6725 - val_root_mean_squared_error: 0.4322\n",
            "Epoch 51/100\n",
            "3/3 [==============================] - 0s 21ms/step - loss: 21.8302 - root_mean_squared_error: 0.3963 - val_loss: 14.0442 - val_root_mean_squared_error: 0.2678\n",
            "Epoch 52/100\n",
            "3/3 [==============================] - 0s 17ms/step - loss: 13.3580 - root_mean_squared_error: 0.2751 - val_loss: 9.5878 - val_root_mean_squared_error: 0.1790\n",
            "Epoch 53/100\n",
            "3/3 [==============================] - 0s 26ms/step - loss: 10.0518 - root_mean_squared_error: 0.1846 - val_loss: 13.6908 - val_root_mean_squared_error: 0.2503\n",
            "Epoch 54/100\n",
            "3/3 [==============================] - 0s 26ms/step - loss: 11.3182 - root_mean_squared_error: 0.2191 - val_loss: 8.1040 - val_root_mean_squared_error: 0.1588\n",
            "Epoch 55/100\n",
            "3/3 [==============================] - 0s 17ms/step - loss: 8.8772 - root_mean_squared_error: 0.1721 - val_loss: 7.4423 - val_root_mean_squared_error: 0.1463\n",
            "Epoch 56/100\n",
            "3/3 [==============================] - 0s 17ms/step - loss: 8.7335 - root_mean_squared_error: 0.1730 - val_loss: 9.0750 - val_root_mean_squared_error: 0.1776\n",
            "Epoch 57/100\n",
            "3/3 [==============================] - 0s 28ms/step - loss: 11.3455 - root_mean_squared_error: 0.2323 - val_loss: 7.7334 - val_root_mean_squared_error: 0.1482\n",
            "Epoch 58/100\n",
            "3/3 [==============================] - 0s 17ms/step - loss: 9.8245 - root_mean_squared_error: 0.1809 - val_loss: 15.3651 - val_root_mean_squared_error: 0.2781\n",
            "Epoch 59/100\n",
            "3/3 [==============================] - 0s 18ms/step - loss: 14.8371 - root_mean_squared_error: 0.2822 - val_loss: 10.7179 - val_root_mean_squared_error: 0.2244\n",
            "Epoch 60/100\n",
            "3/3 [==============================] - 0s 19ms/step - loss: 12.4704 - root_mean_squared_error: 0.2367 - val_loss: 14.6235 - val_root_mean_squared_error: 0.2631\n",
            "Epoch 61/100\n",
            "3/3 [==============================] - 0s 17ms/step - loss: 13.4575 - root_mean_squared_error: 0.2593 - val_loss: 13.3925 - val_root_mean_squared_error: 0.2463\n",
            "Epoch 62/100\n",
            "3/3 [==============================] - 0s 17ms/step - loss: 13.3470 - root_mean_squared_error: 0.2346 - val_loss: 10.3953 - val_root_mean_squared_error: 0.2045\n",
            "Epoch 63/100\n",
            "3/3 [==============================] - 0s 20ms/step - loss: 9.2123 - root_mean_squared_error: 0.1879 - val_loss: 6.8258 - val_root_mean_squared_error: 0.1431\n",
            "Epoch 64/100\n",
            "3/3 [==============================] - 0s 17ms/step - loss: 6.8399 - root_mean_squared_error: 0.1427 - val_loss: 8.0011 - val_root_mean_squared_error: 0.1474\n",
            "Epoch 65/100\n",
            "3/3 [==============================] - 0s 17ms/step - loss: 7.2795 - root_mean_squared_error: 0.1445 - val_loss: 9.6493 - val_root_mean_squared_error: 0.1789\n",
            "Epoch 66/100\n",
            "3/3 [==============================] - 0s 18ms/step - loss: 8.1975 - root_mean_squared_error: 0.1648 - val_loss: 10.7554 - val_root_mean_squared_error: 0.1980\n",
            "Epoch 67/100\n",
            "3/3 [==============================] - 0s 22ms/step - loss: 10.0296 - root_mean_squared_error: 0.1806 - val_loss: 12.0270 - val_root_mean_squared_error: 0.2471\n",
            "Epoch 68/100\n",
            "3/3 [==============================] - 0s 26ms/step - loss: 9.4464 - root_mean_squared_error: 0.2013 - val_loss: 9.7402 - val_root_mean_squared_error: 0.1784\n",
            "Epoch 69/100\n",
            "3/3 [==============================] - 0s 26ms/step - loss: 9.9996 - root_mean_squared_error: 0.1896 - val_loss: 8.5026 - val_root_mean_squared_error: 0.1538\n",
            "Epoch 70/100\n",
            "3/3 [==============================] - 0s 18ms/step - loss: 11.1565 - root_mean_squared_error: 0.2156 - val_loss: 7.6520 - val_root_mean_squared_error: 0.1488\n",
            "Epoch 71/100\n",
            "3/3 [==============================] - 0s 20ms/step - loss: 10.1607 - root_mean_squared_error: 0.1887 - val_loss: 8.9101 - val_root_mean_squared_error: 0.1699\n",
            "Epoch 72/100\n",
            "3/3 [==============================] - 0s 17ms/step - loss: 12.5076 - root_mean_squared_error: 0.2274 - val_loss: 10.9735 - val_root_mean_squared_error: 0.1967\n",
            "Epoch 73/100\n",
            "3/3 [==============================] - 0s 28ms/step - loss: 12.2984 - root_mean_squared_error: 0.2351 - val_loss: 10.0312 - val_root_mean_squared_error: 0.2006\n",
            "Epoch 74/100\n",
            "3/3 [==============================] - 0s 26ms/step - loss: 11.8864 - root_mean_squared_error: 0.2523 - val_loss: 12.6582 - val_root_mean_squared_error: 0.2557\n",
            "Epoch 75/100\n",
            "3/3 [==============================] - 0s 17ms/step - loss: 11.5921 - root_mean_squared_error: 0.2260 - val_loss: 10.0756 - val_root_mean_squared_error: 0.1733\n",
            "Epoch 76/100\n",
            "3/3 [==============================] - 0s 18ms/step - loss: 9.6018 - root_mean_squared_error: 0.1656 - val_loss: 9.4849 - val_root_mean_squared_error: 0.1634\n",
            "Epoch 77/100\n",
            "3/3 [==============================] - 0s 18ms/step - loss: 9.3947 - root_mean_squared_error: 0.1715 - val_loss: 6.7495 - val_root_mean_squared_error: 0.1260\n",
            "Epoch 78/100\n",
            "3/3 [==============================] - 0s 17ms/step - loss: 8.9823 - root_mean_squared_error: 0.1847 - val_loss: 8.5910 - val_root_mean_squared_error: 0.1497\n",
            "Epoch 79/100\n",
            "3/3 [==============================] - 0s 19ms/step - loss: 9.5162 - root_mean_squared_error: 0.1856 - val_loss: 8.5667 - val_root_mean_squared_error: 0.1567\n",
            "Epoch 80/100\n",
            "3/3 [==============================] - 0s 18ms/step - loss: 10.6691 - root_mean_squared_error: 0.1896 - val_loss: 6.7761 - val_root_mean_squared_error: 0.1354\n",
            "Epoch 81/100\n",
            "3/3 [==============================] - 0s 18ms/step - loss: 7.7072 - root_mean_squared_error: 0.1463 - val_loss: 10.1782 - val_root_mean_squared_error: 0.1967\n",
            "Epoch 82/100\n",
            "3/3 [==============================] - 0s 17ms/step - loss: 10.1522 - root_mean_squared_error: 0.1984 - val_loss: 8.5442 - val_root_mean_squared_error: 0.1666\n",
            "Epoch 83/100\n",
            "3/3 [==============================] - 0s 17ms/step - loss: 8.3998 - root_mean_squared_error: 0.1707 - val_loss: 7.9662 - val_root_mean_squared_error: 0.1534\n",
            "Epoch 84/100\n",
            "3/3 [==============================] - 0s 17ms/step - loss: 7.1466 - root_mean_squared_error: 0.1393 - val_loss: 9.0036 - val_root_mean_squared_error: 0.1555\n",
            "Epoch 85/100\n",
            "3/3 [==============================] - 0s 18ms/step - loss: 7.8168 - root_mean_squared_error: 0.1500 - val_loss: 7.2038 - val_root_mean_squared_error: 0.1431\n",
            "Epoch 86/100\n",
            "3/3 [==============================] - 0s 18ms/step - loss: 7.8902 - root_mean_squared_error: 0.1597 - val_loss: 6.2269 - val_root_mean_squared_error: 0.1260\n",
            "Epoch 87/100\n",
            "3/3 [==============================] - 0s 33ms/step - loss: 6.9577 - root_mean_squared_error: 0.1381 - val_loss: 10.7853 - val_root_mean_squared_error: 0.1863\n",
            "Epoch 88/100\n",
            "3/3 [==============================] - 0s 18ms/step - loss: 8.4771 - root_mean_squared_error: 0.1607 - val_loss: 9.0207 - val_root_mean_squared_error: 0.1632\n",
            "Epoch 89/100\n",
            "3/3 [==============================] - 0s 19ms/step - loss: 9.3496 - root_mean_squared_error: 0.1612 - val_loss: 6.6509 - val_root_mean_squared_error: 0.1373\n",
            "Epoch 90/100\n",
            "3/3 [==============================] - 0s 20ms/step - loss: 6.7725 - root_mean_squared_error: 0.1327 - val_loss: 9.2070 - val_root_mean_squared_error: 0.1552\n",
            "Epoch 91/100\n",
            "3/3 [==============================] - 0s 27ms/step - loss: 8.6384 - root_mean_squared_error: 0.1524 - val_loss: 8.1003 - val_root_mean_squared_error: 0.1622\n",
            "Epoch 92/100\n",
            "3/3 [==============================] - 0s 18ms/step - loss: 9.0261 - root_mean_squared_error: 0.1651 - val_loss: 6.5374 - val_root_mean_squared_error: 0.1407\n",
            "Epoch 93/100\n",
            "3/3 [==============================] - 0s 17ms/step - loss: 7.3110 - root_mean_squared_error: 0.1397 - val_loss: 6.3989 - val_root_mean_squared_error: 0.1156\n",
            "Epoch 94/100\n",
            "3/3 [==============================] - 0s 20ms/step - loss: 5.9161 - root_mean_squared_error: 0.1162 - val_loss: 5.3630 - val_root_mean_squared_error: 0.1105\n",
            "Epoch 95/100\n",
            "3/3 [==============================] - 0s 18ms/step - loss: 5.9459 - root_mean_squared_error: 0.1166 - val_loss: 6.3607 - val_root_mean_squared_error: 0.1198\n",
            "Epoch 96/100\n",
            "3/3 [==============================] - 0s 18ms/step - loss: 5.8320 - root_mean_squared_error: 0.1134 - val_loss: 6.0289 - val_root_mean_squared_error: 0.1158\n",
            "Epoch 97/100\n",
            "3/3 [==============================] - 0s 18ms/step - loss: 6.0300 - root_mean_squared_error: 0.1180 - val_loss: 7.7040 - val_root_mean_squared_error: 0.1554\n",
            "Epoch 98/100\n",
            "3/3 [==============================] - 0s 27ms/step - loss: 9.3029 - root_mean_squared_error: 0.1765 - val_loss: 11.6091 - val_root_mean_squared_error: 0.2146\n",
            "Epoch 99/100\n",
            "3/3 [==============================] - 0s 18ms/step - loss: 9.7479 - root_mean_squared_error: 0.1889 - val_loss: 11.1625 - val_root_mean_squared_error: 0.2001\n",
            "Epoch 100/100\n",
            "3/3 [==============================] - 0s 18ms/step - loss: 9.5457 - root_mean_squared_error: 0.1743 - val_loss: 9.0547 - val_root_mean_squared_error: 0.1771\n",
            "CPU times: user 5.55 s, sys: 221 ms, total: 5.77 s\n",
            "Wall time: 6.53 s\n"
          ]
        }
      ],
      "source": [
        "%%time\n",
        "#обучение нейросети\n",
        "history_1 = model_1.fit(\n",
        "  x,\n",
        "  y,\n",
        "  epochs = 100,\n",
        "  validation_data = (x_test,y_test),\n",
        "  verbose = 1\n",
        ")"
      ],
      "id": "kgeQb7FfcwXq"
    },
    {
      "cell_type": "code",
      "execution_count": 45,
      "metadata": {
        "colab": {
          "base_uri": "https://localhost:8080/"
        },
        "id": "Uq2m9C90cwXq",
        "outputId": "d3582c53-820d-415e-d914-da1e7e1aeaf9"
      },
      "outputs": [
        {
          "output_type": "stream",
          "name": "stdout",
          "text": [
            "1/1 [==============================] - 0s 93ms/step\n"
          ]
        }
      ],
      "source": [
        "y_pred = model_1.predict(x_test)"
      ],
      "id": "Uq2m9C90cwXq"
    },
    {
      "cell_type": "code",
      "execution_count": 46,
      "metadata": {
        "colab": {
          "base_uri": "https://localhost:8080/"
        },
        "id": "_Co8M_RocwXq",
        "outputId": "d21162f5-b911-49b5-e477-98890ebae9d8"
      },
      "outputs": [
        {
          "output_type": "execute_result",
          "data": {
            "text/plain": [
              "array([[1.1172771 , 1.7222127 ],\n",
              "       [1.0455292 , 1.4870719 ],\n",
              "       [1.1371317 , 1.7101141 ],\n",
              "       [1.3473264 , 2.0792801 ],\n",
              "       [1.1296166 , 1.5983616 ],\n",
              "       [0.68488955, 2.1117978 ],\n",
              "       [1.0887562 , 1.7472261 ],\n",
              "       [1.1397814 , 1.5625732 ],\n",
              "       [1.1397814 , 1.5625732 ],\n",
              "       [1.1397814 , 1.5625732 ],\n",
              "       [0.68488955, 2.1117978 ],\n",
              "       [1.1397814 , 1.5625732 ],\n",
              "       [1.4932863 , 2.3586736 ],\n",
              "       [1.1615064 , 1.8554118 ],\n",
              "       [1.4932863 , 2.3586736 ],\n",
              "       [1.1622894 , 1.6646849 ],\n",
              "       [1.1172771 , 1.7222127 ],\n",
              "       [1.1397814 , 1.5625732 ],\n",
              "       [0.68488955, 2.1117978 ],\n",
              "       [1.1397814 , 1.5625732 ],\n",
              "       [1.0595732 , 1.5903124 ],\n",
              "       [0.8760102 , 2.148989  ]], dtype=float32)"
            ]
          },
          "metadata": {},
          "execution_count": 46
        }
      ],
      "source": [
        "y_pred"
      ],
      "id": "_Co8M_RocwXq"
    },
    {
      "cell_type": "code",
      "execution_count": 47,
      "metadata": {
        "colab": {
          "base_uri": "https://localhost:8080/"
        },
        "id": "cx7i-9vbcwXq",
        "outputId": "16db4ffe-08b3-416f-ac5a-406d0bac6a10"
      },
      "outputs": [
        {
          "output_type": "execute_result",
          "data": {
            "text/plain": [
              "array([[1.2 , 1.78],\n",
              "       [1.08, 1.82],\n",
              "       [1.08, 1.72],\n",
              "       [1.64, 2.52],\n",
              "       [1.32, 1.76],\n",
              "       [0.8 , 2.04],\n",
              "       [1.2 , 2.  ],\n",
              "       [1.2 , 1.86],\n",
              "       [1.32, 1.96],\n",
              "       [1.16, 1.76],\n",
              "       [0.86, 2.08],\n",
              "       [1.24, 1.8 ],\n",
              "       [1.36, 2.48],\n",
              "       [1.18, 1.78],\n",
              "       [1.68, 2.6 ],\n",
              "       [1.24, 1.76],\n",
              "       [1.2 , 1.86],\n",
              "       [1.2 , 1.68],\n",
              "       [0.88, 2.  ],\n",
              "       [1.2 , 1.76],\n",
              "       [1.04, 1.9 ],\n",
              "       [0.84, 2.28]])"
            ]
          },
          "metadata": {},
          "execution_count": 47
        }
      ],
      "source": [
        "y_test"
      ],
      "id": "cx7i-9vbcwXq"
    },
    {
      "cell_type": "code",
      "execution_count": 48,
      "metadata": {
        "colab": {
          "base_uri": "https://localhost:8080/"
        },
        "id": "s4KYNwFXcwXq",
        "outputId": "5163f0a6-0e6c-4649-a1b1-2c51043974e5"
      },
      "outputs": [
        {
          "output_type": "stream",
          "name": "stdout",
          "text": [
            "1/1 [==============================] - 0s 38ms/step - loss: 9.0547 - root_mean_squared_error: 0.1771\n"
          ]
        },
        {
          "output_type": "execute_result",
          "data": {
            "text/plain": [
              "[9.054688453674316, 0.1771240234375]"
            ]
          },
          "metadata": {},
          "execution_count": 48
        }
      ],
      "source": [
        "# точность нейросети на тестовых данных\n",
        "model_1.evaluate(x_test, y_test)"
      ],
      "id": "s4KYNwFXcwXq"
    },
    {
      "cell_type": "code",
      "execution_count": 49,
      "metadata": {
        "colab": {
          "base_uri": "https://localhost:8080/"
        },
        "id": "F11ZWaTocwXr",
        "outputId": "4a4206fc-7c48-41d8-d321-d0699259aa7e"
      },
      "outputs": [
        {
          "output_type": "stream",
          "name": "stdout",
          "text": [
            "1/1 [==============================] - 0s 21ms/step\n"
          ]
        }
      ],
      "source": [
        "# предсказание\n",
        "y_pred_keras1 = model_1.predict(x_test)"
      ],
      "id": "F11ZWaTocwXr"
    },
    {
      "cell_type": "code",
      "execution_count": 50,
      "metadata": {
        "colab": {
          "base_uri": "https://localhost:8080/"
        },
        "id": "dg9jv3WdcwXr",
        "outputId": "11df745b-cf77-4afd-a6cb-25e9489524e1"
      },
      "outputs": [
        {
          "output_type": "execute_result",
          "data": {
            "text/plain": [
              "array([[1.1172771 , 1.7222127 ],\n",
              "       [1.0455292 , 1.4870719 ],\n",
              "       [1.1371317 , 1.7101141 ],\n",
              "       [1.3473264 , 2.0792801 ],\n",
              "       [1.1296166 , 1.5983616 ],\n",
              "       [0.68488955, 2.1117978 ],\n",
              "       [1.0887562 , 1.7472261 ],\n",
              "       [1.1397814 , 1.5625732 ],\n",
              "       [1.1397814 , 1.5625732 ],\n",
              "       [1.1397814 , 1.5625732 ],\n",
              "       [0.68488955, 2.1117978 ],\n",
              "       [1.1397814 , 1.5625732 ],\n",
              "       [1.4932863 , 2.3586736 ],\n",
              "       [1.1615064 , 1.8554118 ],\n",
              "       [1.4932863 , 2.3586736 ],\n",
              "       [1.1622894 , 1.6646849 ],\n",
              "       [1.1172771 , 1.7222127 ],\n",
              "       [1.1397814 , 1.5625732 ],\n",
              "       [0.68488955, 2.1117978 ],\n",
              "       [1.1397814 , 1.5625732 ],\n",
              "       [1.0595732 , 1.5903124 ],\n",
              "       [0.8760102 , 2.148989  ]], dtype=float32)"
            ]
          },
          "metadata": {},
          "execution_count": 50
        }
      ],
      "source": [
        "y_pred_keras1"
      ],
      "id": "dg9jv3WdcwXr"
    },
    {
      "cell_type": "code",
      "execution_count": 51,
      "metadata": {
        "colab": {
          "base_uri": "https://localhost:8080/"
        },
        "id": "-r3Mf0IScwXr",
        "outputId": "caea6cf4-066f-454e-8838-0ac2df38c1e5"
      },
      "outputs": [
        {
          "output_type": "execute_result",
          "data": {
            "text/plain": [
              "array([[1.2 , 1.78],\n",
              "       [1.08, 1.82],\n",
              "       [1.08, 1.72],\n",
              "       [1.64, 2.52],\n",
              "       [1.32, 1.76],\n",
              "       [0.8 , 2.04],\n",
              "       [1.2 , 2.  ],\n",
              "       [1.2 , 1.86],\n",
              "       [1.32, 1.96],\n",
              "       [1.16, 1.76],\n",
              "       [0.86, 2.08],\n",
              "       [1.24, 1.8 ],\n",
              "       [1.36, 2.48],\n",
              "       [1.18, 1.78],\n",
              "       [1.68, 2.6 ],\n",
              "       [1.24, 1.76],\n",
              "       [1.2 , 1.86],\n",
              "       [1.2 , 1.68],\n",
              "       [0.88, 2.  ],\n",
              "       [1.2 , 1.76],\n",
              "       [1.04, 1.9 ],\n",
              "       [0.84, 2.28]])"
            ]
          },
          "metadata": {},
          "execution_count": 51
        }
      ],
      "source": [
        "y_test"
      ],
      "id": "-r3Mf0IScwXr"
    },
    {
      "cell_type": "markdown",
      "metadata": {
        "id": "HzIenpQHcwXw"
      },
      "source": [
        "### Сохранение моделей"
      ],
      "id": "HzIenpQHcwXw"
    },
    {
      "cell_type": "code",
      "source": [
        "model_1.save('Users')"
      ],
      "metadata": {
        "id": "KpprN9yTomy1"
      },
      "id": "KpprN9yTomy1",
      "execution_count": 61,
      "outputs": []
    },
    {
      "cell_type": "code",
      "source": [
        "import pickle # сохраняем объекты моделей в файлы"
      ],
      "metadata": {
        "id": "uLVlqrFxK6xD"
      },
      "id": "uLVlqrFxK6xD",
      "execution_count": 53,
      "outputs": []
    },
    {
      "cell_type": "code",
      "source": [
        "pickle.dump(model_1, open(r'C:\\Users\\Физика\\PycharmProjects\\pythonProject\\model_1.pkl', 'wb'))"
      ],
      "metadata": {
        "id": "-DgdfFbhKRuL"
      },
      "id": "-DgdfFbhKRuL",
      "execution_count": 54,
      "outputs": []
    },
    {
      "cell_type": "code",
      "source": [
        "model_load_width = pickle.load(open(r'C:\\Users\\Физика\\PycharmProjects\\pythonProject\\model_1.pkl', 'rb'))"
      ],
      "metadata": {
        "id": "n_CkqHChKlUZ"
      },
      "id": "n_CkqHChKlUZ",
      "execution_count": 55,
      "outputs": []
    },
    {
      "cell_type": "code",
      "source": [
        "model_load_width.predict([[45., 141., 10., 80.]])"
      ],
      "metadata": {
        "colab": {
          "base_uri": "https://localhost:8080/"
        },
        "id": "xKcWqsZ7knjZ",
        "outputId": "6c495c59-7e85-4243-b892-712d96f9d7de"
      },
      "id": "xKcWqsZ7knjZ",
      "execution_count": 56,
      "outputs": [
        {
          "output_type": "stream",
          "name": "stdout",
          "text": [
            "1/1 [==============================] - 0s 84ms/step\n"
          ]
        },
        {
          "output_type": "execute_result",
          "data": {
            "text/plain": [
              "array([[1.0595734, 1.5903143]], dtype=float32)"
            ]
          },
          "metadata": {},
          "execution_count": 56
        }
      ]
    }
  ],
  "metadata": {
    "kernelspec": {
      "display_name": "Python 3 (ipykernel)",
      "language": "python",
      "name": "python3"
    },
    "language_info": {
      "codemirror_mode": {
        "name": "ipython",
        "version": 3
      },
      "file_extension": ".py",
      "mimetype": "text/x-python",
      "name": "python",
      "nbconvert_exporter": "python",
      "pygments_lexer": "ipython3",
      "version": "3.8.16"
    },
    "colab": {
      "provenance": [],
      "collapsed_sections": [
        "eDYRC71S2b6y"
      ],
      "include_colab_link": true
    }
  },
  "nbformat": 4,
  "nbformat_minor": 5
}